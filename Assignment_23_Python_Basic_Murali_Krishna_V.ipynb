{
 "cells": [
  {
   "cell_type": "code",
   "execution_count": 1,
   "metadata": {},
   "outputs": [
    {
     "name": "stdout",
     "output_type": "stream",
     "text": [
      "1 2 8\n"
     ]
    }
   ],
   "source": [
    "#1. What is the result of the code, and why?\n",
    "def func(a, b=6, c=8):\n",
    "    print(a, b, c)\n",
    "    \n",
    "\n",
    "func(1, 2)\n",
    "\n",
    "#(A) the func(1,2) is called, the parameters a is assigned the value 1 and b is assigned the value 2, \n",
    "# even though it has a defaultvalue 6. As no third value is passed, the third parameter c retains its default value 8. default values \n",
    "# will be used only when the value for that arguments is not passed. Hence the result 1 2 8 is printed."
   ]
  },
  {
   "cell_type": "code",
   "execution_count": 2,
   "metadata": {},
   "outputs": [
    {
     "name": "stdout",
     "output_type": "stream",
     "text": [
      "1 2 3\n"
     ]
    }
   ],
   "source": [
    "#2. What is the result of this code, and why?\n",
    "\n",
    "def func(a, b, c=5):\n",
    "    print(a, b, c)\n",
    "\n",
    "func(1, c=3, b=2)\n",
    "\n",
    "#(A) As the values are passed by values, func(1,c=3,b=2), a is assigned value 1, \n",
    "#and as c is assigned value 3 and b is assigned value 2, explicitly during function call,\n",
    "#those values are passed to parameter c and b parameters respectively in func().\n",
    "#Hence the result 1 2 3"
   ]
  },
  {
   "cell_type": "code",
   "execution_count": 3,
   "metadata": {},
   "outputs": [
    {
     "name": "stdout",
     "output_type": "stream",
     "text": [
      "1 (2, 3)\n"
     ]
    }
   ],
   "source": [
    "#3. How about this code: what is its result, and why?\n",
    "def func(a, *pargs):\n",
    "    print(a, pargs)\n",
    "\n",
    "func(1, 2, 3)\n",
    "\n",
    "#(A) the positional parameter a is passed the value 1, whereas the two values, 2 and 3 are passed to \n",
    "# variable length positional argument *pargs. *pargs uses a tuple to hold the values. \n",
    "# Hence the value 1 and tuple (2,3) is printed as 1 (2,3)."
   ]
  },
  {
   "cell_type": "code",
   "execution_count": 4,
   "metadata": {},
   "outputs": [
    {
     "name": "stdout",
     "output_type": "stream",
     "text": [
      "1 {'c': 3, 'b': 2}\n"
     ]
    }
   ],
   "source": [
    "#4. What does this code print, and why?\n",
    "def func(a, **kargs):\n",
    "    print(a, kargs)\n",
    "\n",
    "func(a=1, c=3, b=2)\n",
    "\n",
    "#(A) Positional parameter a in func() is passed the value 1.\n",
    "# The **kargs is a variable keyword arguments which hold the variable number key word parameters. **kargs using dictionary to \n",
    "# hold the key word value.\n",
    "#Hence the result 1 {'c': 3, 'b': 2}"
   ]
  },
  {
   "cell_type": "code",
   "execution_count": 5,
   "metadata": {},
   "outputs": [
    {
     "name": "stdout",
     "output_type": "stream",
     "text": [
      "1 5 6 5\n"
     ]
    }
   ],
   "source": [
    "#5. What gets printed by this, and explain?\n",
    "def func(a, b, c=8, d=5): print(a, b, c, d)\n",
    "\n",
    "func(1, *(5, 6))\n",
    "\n",
    "#(A) the positinal parameter 1 is assingned to a. as the other argument is a tuple (5,6), to pass it the function func(),\n",
    "# the tuple value is unpacked using *(5,6). The unpacked tuple values are passed to positional parameters b,c respectively, \n",
    "# in order i.e b=5, c=6, and d has a default value 5.\n",
    "# Hence the result 1 5 6 5 is returned."
   ]
  },
  {
   "cell_type": "code",
   "execution_count": 10,
   "metadata": {},
   "outputs": [
    {
     "name": "stdout",
     "output_type": "stream",
     "text": [
      "l: <class 'int'> 140728555874080\n",
      "m: <class 'list'> 2474290179584\n",
      "n: <class 'dict'> 2474290157632\n",
      "a: <class 'int'> 140728555874112\n",
      "b: <class 'list'> 2474290179584\n",
      "c: <class 'dict'> 2474290157632\n"
     ]
    },
    {
     "data": {
      "text/plain": [
       "(1, ['x'], {'a': 'y'})"
      ]
     },
     "execution_count": 10,
     "metadata": {},
     "output_type": "execute_result"
    }
   ],
   "source": [
    "#6. what is the result of this, and explain?\n",
    "\n",
    "def func(a, b, c): \n",
    "    a = 2; b[0] = 'x'; c['a'] = 'y'\n",
    "    print(\"a:\",type(a),id(a))\n",
    "    print(\"b:\",type(b),id(b))\n",
    "    print(\"c:\",type(c),id(c))\n",
    "\n",
    "l=1; m=[1]; n={'a':0}\n",
    "print(\"l:\",type(l), id(l))\n",
    "print(\"m:\",type(m),id(m))\n",
    "print(\"n:\",type(n),id(n))\n",
    "\n",
    "func(l, m, n)\n",
    "\n",
    "l, m, n\n",
    "\n",
    "\n",
    "#(A) Objects such as integers and strings are passed by object reference (assignment), \n",
    "# but since you can’t change immutable objects in place anyhow, the effect is much like making a copy. \n",
    "# So when l=1 is passed by assignment to parameter a, and hence even if it is changed within the function it is local and \n",
    "# object itself isnt changed.\n",
    "#Objects such as lists and dictionaries are passed by object reference too, mutable objects can be changed in place in the function.\n",
    "#Hence when m=[1] , a list and n={'a':0} , a dictionary, are passed to the parameters b and c of function func(),and the function\n",
    "# modifies it and it in turn modifies the actual mutable objects the list m and dictionary n.\n",
    "# Hence the result is (1, ['x'], {'a': 'y'})"
   ]
  },
  {
   "cell_type": "code",
   "execution_count": null,
   "metadata": {},
   "outputs": [],
   "source": []
  }
 ],
 "metadata": {
  "kernelspec": {
   "display_name": "Python 3",
   "language": "python",
   "name": "python3"
  },
  "language_info": {
   "codemirror_mode": {
    "name": "ipython",
    "version": 3
   },
   "file_extension": ".py",
   "mimetype": "text/x-python",
   "name": "python",
   "nbconvert_exporter": "python",
   "pygments_lexer": "ipython3",
   "version": "3.8.5"
  }
 },
 "nbformat": 4,
 "nbformat_minor": 4
}
