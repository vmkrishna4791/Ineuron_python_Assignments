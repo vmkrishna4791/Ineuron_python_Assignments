{
 "cells": [
  {
   "cell_type": "code",
   "execution_count": 4,
   "metadata": {},
   "outputs": [
    {
     "name": "stdout",
     "output_type": "stream",
     "text": [
      "<class '__main__.Thing'>\n",
      "<__main__.Thing object at 0x0000018DB4BC3DC0>\n"
     ]
    }
   ],
   "source": [
    "#1. Make a class called Thing with no contents and print it. \n",
    "#Then, create an object called example from this class and also print it. Are the printed values the same or different?\n",
    "#(A)\n",
    "\n",
    "class Thing:\n",
    "    \n",
    "    def __init__(self):\n",
    "        pass\n",
    "    \n",
    "print(Thing)\n",
    "\n",
    "example=Thing()\n",
    "print(example)\n",
    "\n",
    "# The printed values are different"
   ]
  },
  {
   "cell_type": "code",
   "execution_count": 47,
   "metadata": {},
   "outputs": [
    {
     "data": {
      "text/plain": [
       "'abc'"
      ]
     },
     "execution_count": 47,
     "metadata": {},
     "output_type": "execute_result"
    }
   ],
   "source": [
    "#2. Create a new class called Thing2 and add the value 'abc' to the letters class attribute. Letters should be printed.\n",
    "#(A)\n",
    "\n",
    "class Thing2:\n",
    "    \n",
    "    def __init__(self):\n",
    "        self.value='abc'\n",
    "        \n",
    "    def display(self):\n",
    "        return self.value\n",
    "        \n",
    "\n",
    "new = Thing2()\n",
    "new.display()\n",
    "\n",
    "        \n",
    "        \n",
    "        "
   ]
  },
  {
   "cell_type": "code",
   "execution_count": 48,
   "metadata": {},
   "outputs": [
    {
     "data": {
      "text/plain": [
       "'xyz'"
      ]
     },
     "execution_count": 48,
     "metadata": {},
     "output_type": "execute_result"
    }
   ],
   "source": [
    "#3. Make yet another class called, of course, Thing3. This time, assign the value 'xyz' to an instance (object) attribute called letters.\n",
    "#Print letters. Do you need to make an object from the class to do this?\n",
    "\n",
    "class Thing3:\n",
    "    \n",
    "    def __init__(self):\n",
    "        self.letters='xyz'\n",
    "        \n",
    "    def display(self):\n",
    "        return self.letters\n",
    "    \n",
    "    \n",
    "obj=Thing3()\n",
    "obj.display()\n",
    "\n",
    "#The class object has to to created to access the value"
   ]
  },
  {
   "cell_type": "code",
   "execution_count": 49,
   "metadata": {},
   "outputs": [
    {
     "name": "stdout",
     "output_type": "stream",
     "text": [
      "The object values : Hydrogen, H, 1 \n",
      "('Hydrogen', 'H', 1)\n"
     ]
    }
   ],
   "source": [
    "#4. Create an Element class with the instance attributes name, symbol, and number.\n",
    "# Create a class object with the values 'Hydrogen,' 'H,' and 1.\n",
    "#(A)\n",
    "\n",
    "class Element:\n",
    "    \n",
    "    def __init__(self,name,symbol,number):\n",
    "        self.element=name\n",
    "        self.symbol=symbol\n",
    "        self.atmnum=number\n",
    "        \n",
    "    def display (self):\n",
    "        return (self.element,self.symbol,self.atmnum)\n",
    "    \n",
    "       \n",
    "ele=Element('Hydrogen','H',1)\n",
    "\n",
    "print(r\"The object values : {}, {}, {} \".format(ele.element, ele.symbol,ele.atmnum))\n",
    "print(ele.display())\n"
   ]
  },
  {
   "cell_type": "code",
   "execution_count": 43,
   "metadata": {},
   "outputs": [
    {
     "data": {
      "text/plain": [
       "{'name': 'Hydrogen', 'symbol': 'H', 'number': 1}"
      ]
     },
     "execution_count": 43,
     "metadata": {},
     "output_type": "execute_result"
    }
   ],
   "source": [
    "#5. Make a dictionary with these keys and values: 'name': 'Hydrogen', 'symbol': 'H', 'number': 1.\n",
    "# Then, create an object called hydrogen from class Element using this dictionary.\n",
    "#(A)\n",
    "class Element:\n",
    "    \n",
    "    def __init__(self,dict2):\n",
    "        self.element_list = dict2\n",
    "        \n",
    "        \n",
    "    def display (self):\n",
    "        return {k:v for k,v in self.element_list.items()}\n",
    "    \n",
    "    def __str__(self):\n",
    "        return \"This is instance of periodic table element\"\n",
    "    \n",
    "dict1={}\n",
    "dict1['name']='Hydrogen'\n",
    "dict1['symbol']='H'\n",
    "dict1['number']=1\n",
    "#print(\"Dictionary dict1:\",dict1) \n",
    "\n",
    "hydrogen=Element(dict1)\n",
    "hydrogen.display()\n"
   ]
  },
  {
   "cell_type": "code",
   "execution_count": 50,
   "metadata": {},
   "outputs": [
    {
     "data": {
      "text/plain": [
       "('Hydrogen', 'H', 1)"
      ]
     },
     "execution_count": 50,
     "metadata": {},
     "output_type": "execute_result"
    }
   ],
   "source": [
    "#6. For the Element class, define a method called dump() that prints the values of the object’s attributes (name, symbol, and number). \n",
    "# Create the hydrogen object from this new definition and use dump() to print its attributes.\n",
    "#(A)\n",
    "\n",
    "class Element:\n",
    "    \n",
    "    def __init__(self,name,symbol,number):\n",
    "        self.element=name\n",
    "        self.symbol=symbol\n",
    "        self.atmnum=number\n",
    "        \n",
    "    def dump(self):\n",
    "        return (self.element,self.symbol,self.atmnum)\n",
    "    \n",
    "hydrogen=Element('Hydrogen','H',1)\n",
    "hydrogen.dump()\n"
   ]
  },
  {
   "cell_type": "code",
   "execution_count": 55,
   "metadata": {},
   "outputs": [
    {
     "name": "stdout",
     "output_type": "stream",
     "text": [
      "<__main__.Element object at 0x0000018DB4CB89A0>\n"
     ]
    }
   ],
   "source": [
    "#7. Call print(hydrogen). \n",
    "#(A)\n",
    "\n",
    "class Element:\n",
    "    \n",
    "    def __init__(self,name,symbol,number):\n",
    "        self.element=name\n",
    "        self.symbol=symbol\n",
    "        self.atmnum=number\n",
    "        \n",
    "hydrogen=Element('Hydrogen','H',1)\n",
    "print(hydrogen)\n"
   ]
  },
  {
   "cell_type": "code",
   "execution_count": 54,
   "metadata": {},
   "outputs": [
    {
     "name": "stdout",
     "output_type": "stream",
     "text": [
      "This is new hydrogen object\n"
     ]
    }
   ],
   "source": [
    "#7.In the definition of Element, change the name of method dump to __str__, create a new hydrogen object, and call print(hydrogen) again.\n",
    "#(A)\n",
    "class Element:\n",
    "    \n",
    "    def __init__(self,name,symbol,number):\n",
    "        self.element=name\n",
    "        self.symbol=symbol\n",
    "        self.atmnum=number\n",
    "        \n",
    "    def __str__(self):\n",
    "        return \"This is new hydrogen object\"\n",
    "        \n",
    "hydrogen=Element('Hydrogen','H',1)\n",
    "print(hydrogen)\n",
    "\n"
   ]
  },
  {
   "cell_type": "code",
   "execution_count": 2,
   "metadata": {},
   "outputs": [
    {
     "name": "stdout",
     "output_type": "stream",
     "text": [
      "getters called\n",
      "('Hydrogen', 'H', 1)\n"
     ]
    }
   ],
   "source": [
    "#8. Modify Element to make the attributes name, symbol, and number private. \n",
    "# Define a getter property for each to return its value.\n",
    "#(A)\n",
    "\n",
    "class Element:\n",
    "    \n",
    "    def __init__(self,name,symbol,number):\n",
    "        self.__element=name\n",
    "        self.__symbol=symbol\n",
    "        self.__atmnum=number\n",
    "        \n",
    "    def get_element(self):\n",
    "        print(\"getters called\")\n",
    "        return (self.__element,self.__symbol,self.__atmnum)\n",
    "    \n",
    "     output = property(get_element,set_element,) \n",
    "\n",
    "hydrogen=Element('Hydrogen','H',1)\n",
    "\n",
    "print(hydrogen.output)\n",
    "\n",
    "  \n",
    "\n",
    "\n"
   ]
  },
  {
   "cell_type": "code",
   "execution_count": 10,
   "metadata": {},
   "outputs": [
    {
     "name": "stdout",
     "output_type": "stream",
     "text": [
      "Bear eats  Berries \n",
      "\n",
      "Rabbit eats  Clover \n",
      "\n",
      "Octothorpe eats  campers \n",
      "\n"
     ]
    }
   ],
   "source": [
    "#9. Define three classes: Bear, Rabbit, and Octothorpe. For each, define only one method: eats(). \n",
    "# This should return 'berries' (Bear), 'clover' (Rabbit), or 'campers' (Octothorpe).\n",
    "# Create one object from each and print what it eats.\n",
    "\n",
    "class Bear:\n",
    "    \n",
    "    def __init__(self):\n",
    "        pass\n",
    "    \n",
    "    def eats(self):\n",
    "        return (\"Berries\")\n",
    "    \n",
    "    def __str__(self):\n",
    "        return \"It is Bear class\"\n",
    "    \n",
    "class Rabbit:\n",
    "    \n",
    "    def __init__(self):\n",
    "        pass\n",
    "    \n",
    "    def eats(self):\n",
    "        return (\"Clover\")\n",
    "    \n",
    "    def __str__(self):\n",
    "        return \"It is Rabbit class\"\n",
    "    \n",
    "class Octothorpe:\n",
    "    \n",
    "    def __init__(self):\n",
    "        pass\n",
    "    \n",
    "    def eats(self):\n",
    "        return (\"campers\")\n",
    "    \n",
    "    def __str__(self):\n",
    "        return \"It is Octothorpe class\"\n",
    "\n",
    "    \n",
    "bear=Bear()\n",
    "print(\"Bear eats \", bear.eats(),\"\\n\")\n",
    "\n",
    "rabbit=Rabbit()\n",
    "print(\"Rabbit eats \", rabbit.eats(),\"\\n\")\n",
    "\n",
    "oct=Octothorpe()\n",
    "print(\"Octothorpe eats \", oct.eats(),\"\\n\")\n"
   ]
  },
  {
   "cell_type": "code",
   "execution_count": 21,
   "metadata": {},
   "outputs": [
    {
     "data": {
      "text/plain": [
       "(\"'disintegrate' (Laser)\", \"'crush' (Claw)\", \"'ring' (SmartPhone)\")"
      ]
     },
     "execution_count": 21,
     "metadata": {},
     "output_type": "execute_result"
    }
   ],
   "source": [
    "#10. Define these classes: Laser, Claw, and SmartPhone.\n",
    "# Each has only one method: does(). This returns 'disintegrate' (Laser), 'crush' (Claw), or 'ring' (SmartPhone).\n",
    "# Then, define the class Robot that has one instance (object) of each of these. \n",
    "# Define a does() method for the Robot that prints what its component objects do.\n",
    "#(A)\n",
    "\n",
    "class Laser:\n",
    "    \n",
    "    def __init__(self):\n",
    "        pass\n",
    "    \n",
    "    def does(self):\n",
    "        return (r\"'disintegrate' (Laser)\")\n",
    "    \n",
    "    def __str__(self):\n",
    "        return \"It is Laser class\"\n",
    "    \n",
    "class Claw:\n",
    "    \n",
    "    def __init__(self):\n",
    "        pass\n",
    "    \n",
    "    def does(self):\n",
    "        return (r\"'crush' (Claw)\")\n",
    "    \n",
    "    def __str__(self):\n",
    "        return \"It is Claw class\"\n",
    "\n",
    "\n",
    "class SmartPhone:\n",
    "    \n",
    "    def __init__(self):\n",
    "        pass\n",
    "    \n",
    "    def does(self):\n",
    "        return (r\"'ring' (SmartPhone)\")\n",
    "    \n",
    "    def __str__(self):\n",
    "        return \"It is Smartphone class\"\n",
    "    \n",
    "class Robot:\n",
    "    \n",
    "    rl=Laser()\n",
    "    rc=Claw()\n",
    "    rs=SmartPhone()\n",
    "    \n",
    "       \n",
    "    def __init__(self):\n",
    "        pass\n",
    "    \n",
    "    def does(self):\n",
    "        return (self.rl.does(),self.rc.does(),self.rs.does())\n",
    "    \n",
    "    def __str__(self):\n",
    "        return \"It is Robot class\"\n",
    "\n",
    "rb=Robot()\n",
    "rb.does()\n",
    "    "
   ]
  },
  {
   "cell_type": "code",
   "execution_count": null,
   "metadata": {},
   "outputs": [],
   "source": []
  }
 ],
 "metadata": {
  "kernelspec": {
   "display_name": "Python 3",
   "language": "python",
   "name": "python3"
  },
  "language_info": {
   "codemirror_mode": {
    "name": "ipython",
    "version": 3
   },
   "file_extension": ".py",
   "mimetype": "text/x-python",
   "name": "python",
   "nbconvert_exporter": "python",
   "pygments_lexer": "ipython3",
   "version": "3.8.5"
  }
 },
 "nbformat": 4,
 "nbformat_minor": 4
}
