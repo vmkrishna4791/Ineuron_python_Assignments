{
 "cells": [
  {
   "cell_type": "code",
   "execution_count": null,
   "metadata": {},
   "outputs": [],
   "source": [
    "#1. What is the name of the feature responsible for generating Regex objects?\n",
    "#re.compile(<pattern>) returns the Regex objects\n"
   ]
  },
  {
   "cell_type": "code",
   "execution_count": null,
   "metadata": {},
   "outputs": [],
   "source": [
    "#2. Why do raw strings often appear in Regex objects?\n",
    "#In Regex objects special characters like '\\' appear and if raw string arent used \n",
    "#they to be escaped. Hence raw strings are used to avoid using escaped\n",
    "\n"
   ]
  },
  {
   "cell_type": "code",
   "execution_count": null,
   "metadata": {},
   "outputs": [],
   "source": [
    "#3. What is the return value of the search() method?\n",
    "#re.search(<search pattern>, string) searches the string for the <search pattern>.\n",
    "#if, it exists, it returns a matched object. Else it returns 'None'\n"
   ]
  },
  {
   "cell_type": "code",
   "execution_count": null,
   "metadata": {},
   "outputs": [],
   "source": [
    "#4. From a Match item, how do you get the actual strings that match the pattern?\n",
    "# group() returns a actual strings that match the pattern\n"
   ]
  },
  {
   "cell_type": "code",
   "execution_count": null,
   "metadata": {},
   "outputs": [],
   "source": [
    "#5. In the regex which created from the r'(\\d\\d\\d)-(\\d\\d\\d-\\d\\d\\d\\d)', what does group zero cover? Group 2? Group 1?\n",
    "# group(0) returns the entire string match with '(\\d\\d\\d)-(\\d\\d\\d-\\d\\d\\d\\d)'.\n",
    "# group(1) returns the first match of the pattern (\\d\\d\\d).\n",
    "# group(2) returns the second match of the pattern (\\d\\d\\d-\\d\\d\\d\\d)"
   ]
  },
  {
   "cell_type": "code",
   "execution_count": null,
   "metadata": {},
   "outputs": [],
   "source": [
    "#6. In standard expression syntax, parentheses and intervals have distinct meanings. How can you tell a regex that you want it to fit real parentheses and periods?\n",
    "# We can escape the syntax, paretheses and intervals \n",
    "# e.g \\[, \\], \\(, \\), \\. etc \n"
   ]
  },
  {
   "cell_type": "code",
   "execution_count": null,
   "metadata": {},
   "outputs": [],
   "source": [
    "#7. The findall() method returns a string list or a list of string tuples. What causes it to return one of the two options?\n",
    "# findall() returns a tuple, if matches are present. It returns a all strings, if no groups exists\n"
   ]
  },
  {
   "cell_type": "code",
   "execution_count": null,
   "metadata": {},
   "outputs": [],
   "source": [
    "#8. In standard expressions, what does the | character mean?\n",
    "# It matches either, or pattern or groups. \n"
   ]
  },
  {
   "cell_type": "code",
   "execution_count": null,
   "metadata": {},
   "outputs": [],
   "source": [
    "#9. In regular expressions, what does the character stand for?\n",
    "# ? matches zero or one match of the expression.\n"
   ]
  },
  {
   "cell_type": "code",
   "execution_count": null,
   "metadata": {},
   "outputs": [],
   "source": [
    "#10.In regular expressions, what is the difference between the + and * characters?\n",
    "# * indicates zero or more matches of an pattern or groups\n",
    "# + indicates one or more matches of an expression or groups\n"
   ]
  },
  {
   "cell_type": "code",
   "execution_count": null,
   "metadata": {},
   "outputs": [],
   "source": [
    "#11. What is the difference between {4} and {4,5} in regular expression?\n",
    "#{4} matches four occurences of a pattern or a group\n",
    "#{4,5} matches four or five occurences of a pattern or a group.\n"
   ]
  },
  {
   "cell_type": "code",
   "execution_count": null,
   "metadata": {},
   "outputs": [],
   "source": [
    "#12. What do you mean by the \\d, \\w, and \\s shorthand character classes signify in regular expressions?\n",
    "# \\d - means a search for a digit or numeric.\n",
    "# \\w - indicates a search for a alphanumetic character imcluding _\n",
    "# \\s - indicates a search for any white space character like space, tab or new line\n",
    "\n"
   ]
  },
  {
   "cell_type": "code",
   "execution_count": null,
   "metadata": {},
   "outputs": [],
   "source": [
    "#13. What do means by \\D, \\W, and \\S shorthand character classes signify in regular expressions?\n",
    "# \\D - means a search for a non digit or non numeric.\n",
    "# \\W - indicates a search for a non alphanumetic character which neither a digit or character or an underscore.\n",
    "# \\S - indicates a search for any non-white space characters which is neither a space, nor a tab nor a new line.\n"
   ]
  },
  {
   "cell_type": "code",
   "execution_count": null,
   "metadata": {},
   "outputs": [],
   "source": [
    "#14. What is the difference between .*? and .*?\n",
    "# .*? indicates that non greedy search should occur.\n"
   ]
  },
  {
   "cell_type": "code",
   "execution_count": 7,
   "metadata": {},
   "outputs": [
    {
     "name": "stdout",
     "output_type": "stream",
     "text": [
      "<re.Match object; span=(0, 6), match='0476hg'>\n"
     ]
    }
   ],
   "source": [
    "#15. What is the syntax for matching both numbers and lowercase letters with a character class?\n",
    "# re.search('[0-9a-z]*', <string>)\n",
    "import re\n",
    "print(re.search('[0-9a-z]*', '0476hgD'))\n"
   ]
  },
  {
   "cell_type": "code",
   "execution_count": 26,
   "metadata": {},
   "outputs": [
    {
     "name": "stdout",
     "output_type": "stream",
     "text": [
      "<re.Match object; span=(0, 5), match='HellO'>\n"
     ]
    }
   ],
   "source": [
    "#16. What is the procedure for making a normal expression in regax case insensitive?\n",
    "#  re.search('<pattern>', string, re.I)\n",
    "#re.I indicates that search should ignore the case of the string.\n",
    "\n",
    "import re\n",
    "print(re.search(r'hello', 'HellO. How are you?', re.I))\n"
   ]
  },
  {
   "cell_type": "code",
   "execution_count": null,
   "metadata": {},
   "outputs": [],
   "source": [
    "#17. What does the . character normally match? What does it match if re.DOTALL is passed as 2nd argument in re.compile()?\n",
    "# . normally matches any character except new line.\n",
    "# re.DOTALL is passed it considers even new line also.\n"
   ]
  },
  {
   "cell_type": "code",
   "execution_count": 29,
   "metadata": {},
   "outputs": [
    {
     "name": "stdout",
     "output_type": "stream",
     "text": [
      "X drummers, X pipers, five rings, X hen\n"
     ]
    }
   ],
   "source": [
    "#18. If numReg = re.compile(r'\\d+'), what will numRegex.sub('X', '11 drummers, 10 pipers, five rings, 4 hen') return?\n",
    "import re\n",
    "numReg = re.compile(r'\\d+')\n",
    "print(numReg.sub('X', '11 drummers, 10 pipers, five rings, 4 hen'))"
   ]
  },
  {
   "cell_type": "code",
   "execution_count": null,
   "metadata": {},
   "outputs": [],
   "source": [
    "#19. What does passing re.VERBOSE as the 2nd argument to re.compile() allow to do?\n",
    "#Passing re.VERBOSE as the 2nd argument to re.compile(),\n",
    "\n",
    "#Allows inclusion of whitespace and comments within a regex.\n",
    "\n",
    "#The VERBOSE flag specifies a few special behaviors:\n",
    "\n",
    "#The regex parser ignores all whitespace unless it’s within a character class or escaped \n",
    "#with a backslash.\n",
    "\n",
    "#If the regex contains a # character that isn’t contained within a character class or escaped \n",
    "#with a backslash, then the parser ignores it and all characters to the right of it."
   ]
  },
  {
   "cell_type": "code",
   "execution_count": 70,
   "metadata": {},
   "outputs": [
    {
     "name": "stdout",
     "output_type": "stream",
     "text": [
      "<re.Match object; span=(0, 2), match='42'>\n",
      "<re.Match object; span=(0, 5), match='1,234'>\n",
      "<re.Match object; span=(0, 9), match='6,368,745'>\n",
      "None\n",
      "None\n"
     ]
    }
   ],
   "source": [
    "#20. How would you write a regex that match a number with comma for every three digits? It must match the given following:\n",
    "#'42'\n",
    "#'1,234'\n",
    "#'6,368,745'\n",
    "#but not the following:\n",
    "#'12,34,567' (which has only two digits between the commas)\n",
    "#'1234' (which lacks commas)\n",
    "import re\n",
    "print(re.search(r'^\\d{1,3}(,\\d{3})*$','42'))\n",
    "print(re.search(r'^\\d{1,3}(,\\d{3})*$','1,234'))\n",
    "print(re.search(r'^\\d{1,3}(,\\d{3})*$','6,368,745'))\n",
    "\n",
    "print(re.search(r'^\\d{1,3}(,\\d{3})*$','1234'))\n",
    "print(re.search(r'^\\d{1,3}(,\\d{3})*$','12,34,567'))"
   ]
  },
  {
   "cell_type": "code",
   "execution_count": 87,
   "metadata": {},
   "outputs": [
    {
     "name": "stdout",
     "output_type": "stream",
     "text": [
      "<re.Match object; span=(0, 15), match='Haruto Watanabe'>\n",
      "<re.Match object; span=(0, 14), match='Alice Watanabe'>\n",
      "<re.Match object; span=(0, 16), match='RoboCop Watanabe'>\n",
      "None\n",
      "None\n",
      "None\n",
      "None\n"
     ]
    }
   ],
   "source": [
    "#21. How would you write a regex that matches the full name of someone whose last name is Watanabe? You can assume that the first name that comes before it will always be one word that begins with a capital letter. The regex must match the following:\n",
    "#'Haruto Watanabe'\n",
    "#'Alice Watanabe'\n",
    "#'RoboCop Watanabe'\n",
    "#but not the following:\n",
    "#'haruto Watanabe' (where the first name is not capitalized)\n",
    "#'Mr. Watanabe' (where the preceding word has a nonletter character)\n",
    "#'Watanabe' (which has no first name)\n",
    "#'Haruto watanabe' (where Watanabe is not capitalized)\n",
    "\n",
    "import re\n",
    "print(re.search(r'[A-Z][a-zA-Z]*\\sWatanabe','Haruto Watanabe' ))\n",
    "print(re.search(r'[A-Z][a-zA-Z]*\\sWatanabe','Alice Watanabe' ))\n",
    "print(re.search(r'[A-Z][a-zA-Z]*\\sWatanabe','RoboCop Watanabe' ))\n",
    "\n",
    "print(re.search(r'[A-Z][a-zA-Z]*\\sWatanabe','haruto Watanabe' ))\n",
    "print(re.search(r'[A-Z][a-zA-Z]*\\sWatanabe','Mr. Watanabe' ))\n",
    "print(re.search(r'[A-Z][a-zA-Z]*\\sWatanabe','Watanabe' ))\n",
    "print(re.search(r'[A-Z][a-zA-Z]*\\sWatanabe','Haruto watanabe' ))"
   ]
  },
  {
   "cell_type": "code",
   "execution_count": 140,
   "metadata": {},
   "outputs": [
    {
     "name": "stdout",
     "output_type": "stream",
     "text": [
      "<re.Match object; span=(0, 18), match='Alice eats apples.'>\n",
      "<re.Match object; span=(0, 14), match='Bob pets cats.'>\n",
      "<re.Match object; span=(0, 23), match='Carol throws baseballs.'>\n",
      "<re.Match object; span=(0, 20), match='Alice throws Apples.'>\n",
      "<re.Match object; span=(0, 14), match='BOB EATS CATS.'>\n",
      "None\n",
      "None\n",
      "None\n"
     ]
    }
   ],
   "source": [
    "#22. How would you write a regex that matches a sentence where the first word is either Alice, Bob, or Carol; the second word is either eats, pets, or throws; the third word is apples, cats, or baseballs; and the sentence ends with a period? This regex should be case-insensitive. It must match the following:\n",
    "##'Alice eats apples.'\n",
    "#'Bob pets cats.'\n",
    "#'Carol throws baseballs.'\n",
    "#'Alice throws Apples.'\n",
    "#'BOB EATS CATS.'\n",
    "#but not the following:\n",
    "#'RoboCop eats apples.'\n",
    "#'ALICE THROWS FOOTBALLS.'\n",
    "#'Carol eats 7 cats.'\n",
    "\n",
    "import re\n",
    "print(re.search(r'(^alice|^bob|^carol)\\s(eats|pets|throws)\\s(apples|cats|baseballs)\\.$', 'Alice eats apples.',re.I))\n",
    "print(re.search(r'(^alice|^bob|^carol)\\s(eats|pets|throws)\\s(apples|cats|baseballs)\\.$', 'Bob pets cats.',re.I))\n",
    "print(re.search(r'(^alice|^bob|^carol)\\s(eats|pets|throws)\\s(apples|cats|baseballs)\\.$', 'Carol throws baseballs.',re.I))\n",
    "print(re.search(r'(^alice|^bob|^carol)\\s(eats|pets|throws)\\s(apples|cats|baseballs)\\.$', 'Alice throws Apples.',re.I))\n",
    "print(re.search(r'(^alice|^bob|^carol)\\s(eats|pets|throws)\\s(apples|cats|baseballs)\\.$', 'BOB EATS CATS.',re.I))\n",
    "\n",
    "\n",
    "print(re.search(r'(^alice|^bob|^carol)\\s(eats|pets|throws)\\s(apples|cats|baseballs)\\.$', 'RoboCop eats apples.',re.I))\n",
    "print(re.search(r'(^alice|^bob|^carol)\\s(eats|pets|throws)\\s(apples|cats|baseballs)\\.$', 'ALICE THROWS FOOTBALLS.',re.I))\n",
    "print(re.search(r'(^alice|^bob|^carol)\\s(eats|pets|throws)\\s(apples|cats|baseballs)\\.$', 'Carol eats 7 cats.',re.I))"
   ]
  }
 ],
 "metadata": {
  "kernelspec": {
   "display_name": "Python 3",
   "language": "python",
   "name": "python3"
  },
  "language_info": {
   "codemirror_mode": {
    "name": "ipython",
    "version": 3
   },
   "file_extension": ".py",
   "mimetype": "text/x-python",
   "name": "python",
   "nbconvert_exporter": "python",
   "pygments_lexer": "ipython3",
   "version": "3.8.5"
  }
 },
 "nbformat": 4,
 "nbformat_minor": 4
}
