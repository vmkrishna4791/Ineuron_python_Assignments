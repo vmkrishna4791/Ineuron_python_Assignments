{
 "cells": [
  {
   "cell_type": "code",
   "execution_count": 15,
   "metadata": {},
   "outputs": [
    {
     "name": "stdout",
     "output_type": "stream",
     "text": [
      "List Comprehension: [0, 1, 2, 3, 4, 5, 6, 7, 8, 9]\n",
      "Generator expression: <generator object <genexpr> at 0x0000019B627E6BA0>\n",
      "[0, 1, 2, 3, 4, 5, 6, 7, 8, 9]\n"
     ]
    }
   ],
   "source": [
    "#1) . What is the difference between enclosing a list comprehension in square brackets and parentheses?\n",
    "#(A) List comprehension is easier was of creatin a container(list or dictionary or set) by iterating over elements and assigning them to a container.\n",
    "\n",
    "lst = [ i for i in range(0,10)]\n",
    "print ('List Comprehension:',lst)\n",
    "\n",
    "#if it is enclosed within parenthesis it is a generator expression which creates the values on the fly witout waiting for the entire \n",
    "#output to be created.\n",
    "\n",
    "val= (i  for i in range(0,10) )\n",
    "print('Generator expression:', val)\n",
    "\n",
    "print(list(val))\n",
    "\n",
    "\n",
    "\n"
   ]
  },
  {
   "cell_type": "code",
   "execution_count": null,
   "metadata": {},
   "outputs": [],
   "source": [
    "#2) What is the relationship between generators and iterators?\n",
    "#(A) Iterators is an object which iterate over an iterable obeject. They are implemented in for loops, comprehensions etc.\n",
    "#Genrators are used create iterators . They use yield function instead of a return whenever a vale has to returned from a function.\n",
    "\n"
   ]
  },
  {
   "cell_type": "code",
   "execution_count": null,
   "metadata": {},
   "outputs": [],
   "source": [
    "#3) What are the signs that a function is a generator function?\n",
    "#(A) (1) The output is a generator object.\n",
    "#     (2) They use yield keyword instead of print\n",
    "    \n",
    "    \n",
    "\n",
    "     \n"
   ]
  },
  {
   "cell_type": "code",
   "execution_count": 16,
   "metadata": {},
   "outputs": [],
   "source": [
    "#4) What is the purpose of a yield statement?\n",
    "#(A) Yield statement is used to return the value immediately instead of a print() which waits for entire date to created before \n",
    "#printing. Hence, Yield consumes less memory than print function\n",
    "\n"
   ]
  },
  {
   "cell_type": "code",
   "execution_count": null,
   "metadata": {},
   "outputs": [],
   "source": [
    "#5) What is the relationship between map calls and list comprehensions? Make a comparison and contrast between the two.\n",
    "\n",
    "#(A) map() function is used to take a sequence and perform an operation on the all the data items and return the new sequence. \n",
    "#The memory consumption while using map() function is less and efficient than List compression, as the values are returned on demand\n",
    "# and only one value is available in memory at any point of time using map()\n",
    "#map() returns a map object which is a iterator object which returns the iterator on demand. \n",
    "# The output of map() has to be explicitly converted to approprite container type.\n",
    "#map() function has to passed two arguments the function which performs the operation and iterable. \n",
    "\n",
    "# List comprehension is used to create a list of elements and using a for loop , if statements etc. \n",
    "# Though List comprehension is compact way of coding, the for loop and if statements etc used in List comprehension uses more system\n",
    "# memory and entire output lists are  stored in system memory before it is returned or printed. It returns a List object.\n",
    "#List coprehension is more readable and returns list object. There is no need for converting the output to appropriate container type\n",
    "# as in case of map() output."
   ]
  },
  {
   "cell_type": "code",
   "execution_count": null,
   "metadata": {},
   "outputs": [],
   "source": []
  }
 ],
 "metadata": {
  "kernelspec": {
   "display_name": "Python 3",
   "language": "python",
   "name": "python3"
  },
  "language_info": {
   "codemirror_mode": {
    "name": "ipython",
    "version": 3
   },
   "file_extension": ".py",
   "mimetype": "text/x-python",
   "name": "python",
   "nbconvert_exporter": "python",
   "pygments_lexer": "ipython3",
   "version": "3.8.5"
  }
 },
 "nbformat": 4,
 "nbformat_minor": 4
}
