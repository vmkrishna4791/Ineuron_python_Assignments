{
 "cells": [
  {
   "cell_type": "code",
   "execution_count": null,
   "metadata": {},
   "outputs": [],
   "source": [
    "#1. What is the relationship between def statements and lambda expressions ?\n",
    "#(A)As an expression, lambda returns a value that can optionally be assigned a name. \n",
    "#In contrast, the def statement always assigns the new function to the name in the header, \n",
    "#instead of returning is as a result. lambda's body is a single expression, not a block of statements."
   ]
  },
  {
   "cell_type": "code",
   "execution_count": null,
   "metadata": {},
   "outputs": [],
   "source": [
    "#2. What is the benefit of lambda?\n",
    "#(A) A lambda is an anonymous or inline function which can be defined at the point where it is called.\n",
    "# lambda functions are built at excution time thereby reducing the overhead associated with calling a normal function\n"
   ]
  },
  {
   "cell_type": "code",
   "execution_count": null,
   "metadata": {},
   "outputs": [],
   "source": [
    "#3. Compare and contrast map, filter, and reduce.\n",
    "\n",
    "#map - map is function which takes a sequence (e.g. lists, tuples etc) performs a operation \n",
    "#on the entire sequence and returns the new sequence\n",
    "\n",
    "#filter - Filter is a funtion which applies some operation on the sequence and only those values of the sequence \n",
    "# which evaluates to True\n",
    "\n",
    "#reduce - reduce is a function which perfoms a recursive or rolling computation \n",
    "#on the pairs of values in a sequence and returns a result.\n"
   ]
  },
  {
   "cell_type": "code",
   "execution_count": null,
   "metadata": {},
   "outputs": [],
   "source": [
    "#4. What are function annotations, and how are they used?\n",
    "#(A) Function annotations are simply a way to associate arbitrary expressions to function arguments and return values.\n",
    "# For functions, you can annotate arguments and the return value. This is done as follows:\n",
    "# e.g. def func(arg: arg_type, optarg: arg_type = default) -> return_type:"
   ]
  },
  {
   "cell_type": "code",
   "execution_count": null,
   "metadata": {},
   "outputs": [],
   "source": [
    "#5. What are recursive functions, and how are they used?\n",
    "#(A) A function which can within its body of statements is called recursive functions.\n",
    "# They are used \n",
    "#(1) to solve a problem by breaking it down into similar sub problems.\n",
    "#(2) when numbers loops needed is not known.\n",
    "\n",
    "\n"
   ]
  },
  {
   "cell_type": "code",
   "execution_count": null,
   "metadata": {},
   "outputs": [],
   "source": [
    "#6. What are some general design guidelines for coding functions?\n",
    "#(A)\n",
    "\n",
    "#Function and Variable Names\n",
    "\n",
    "#Function names should be lowercase, with words separated by underscores as necessary to improve readability.\n",
    "\n",
    "#Variable names follow the same convention as function names.\n",
    "\n",
    "#mixedCase is allowed only in contexts where that's already the prevailing style (e.g. threading.py), to retain backwards compatibility.\n",
    "\n",
    "#Function and Method Arguments\n",
    "#Always use self for the first argument to instance methods.\n",
    "\n",
    "#Always use cls for the first argument to class methods.\n",
    "\n",
    "#If a function argument's name clashes with a reserved keyword, it is generally better to append a single trailing \n",
    "#underscore rather than use an abbreviation or spelling corruption. \n",
    "#Thus class_ is better than clss. (Perhaps better is to avoid such clashes by using a synonym.)"
   ]
  },
  {
   "cell_type": "code",
   "execution_count": null,
   "metadata": {},
   "outputs": [],
   "source": [
    "#7. Name three or more ways that functions can communicate results to a caller.\n",
    "#(A)(1) Return without any expression or value. It returns None\n",
    "#   (2) Return multiple values by using lists/tuples/dictionaries\n",
    "#   (3) using print() funtion to return values\n",
    "#   (4) modifying the mutable objects passed , thereby changing the reference values of object passed.\n"
   ]
  }
 ],
 "metadata": {
  "kernelspec": {
   "display_name": "Python 3",
   "language": "python",
   "name": "python3"
  },
  "language_info": {
   "codemirror_mode": {
    "name": "ipython",
    "version": 3
   },
   "file_extension": ".py",
   "mimetype": "text/x-python",
   "name": "python",
   "nbconvert_exporter": "python",
   "pygments_lexer": "ipython3",
   "version": "3.8.5"
  }
 },
 "nbformat": 4,
 "nbformat_minor": 4
}
