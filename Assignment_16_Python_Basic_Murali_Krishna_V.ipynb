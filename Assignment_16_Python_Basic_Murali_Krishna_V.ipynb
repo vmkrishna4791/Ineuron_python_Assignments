{
 "cells": [
  {
   "cell_type": "code",
   "execution_count": 3,
   "metadata": {},
   "outputs": [
    {
     "name": "stdout",
     "output_type": "stream",
     "text": [
      "years_list= [1974, 1975, 1976, 1977, 1978]\n"
     ]
    }
   ],
   "source": [
    "# 1. Create a list called years_list, starting with the year of your birth,\n",
    "# and each year thereafter until the year of your fifth birthday.\n",
    "# For example, if you were born in 1980. the list would be years_list = [1980, 1981, 1982, 1983, 1984, 1985].\n",
    "#(A)\n",
    "\n",
    "years_list=[]\n",
    "yob=1974\n",
    "ny=0\n",
    "\n",
    "while ny < 5:\n",
    "    years_list.append(yob)\n",
    "    yob=yob+1\n",
    "    ny=ny+1\n",
    "\n",
    "print(\"years_list=\", years_list)\n",
    "    \n",
    "    "
   ]
  },
  {
   "cell_type": "code",
   "execution_count": 8,
   "metadata": {},
   "outputs": [
    {
     "name": "stdout",
     "output_type": "stream",
     "text": [
      "Third Birthday year is 1976\n"
     ]
    }
   ],
   "source": [
    "#2. In which year in years_list was your third birthday? \n",
    "#Remember, you were 0 years of age for your first year.\n",
    "#(A)\n",
    "\n",
    "years_list= [1974, 1975, 1976, 1977, 1978]\n",
    "\n",
    "ny=0\n",
    "\n",
    "for i in range(0,len(years_list)):\n",
    "    if i==2:\n",
    "        print(\"Third Birthday year is\", years_list[i] )\n",
    "    else:\n",
    "        pass\n",
    "    "
   ]
  },
  {
   "cell_type": "code",
   "execution_count": 11,
   "metadata": {},
   "outputs": [
    {
     "name": "stdout",
     "output_type": "stream",
     "text": [
      "The year in which i was oldest is 1978\n"
     ]
    }
   ],
   "source": [
    "#3.In the years list, which year were you the oldest?\n",
    "\n",
    "years_list= [1974, 1975, 1976, 1977, 1978]\n",
    "\n",
    "print(\"The year in which i was oldest is\",max(years_list))\n"
   ]
  },
  {
   "cell_type": "code",
   "execution_count": 43,
   "metadata": {},
   "outputs": [
    {
     "name": "stdout",
     "output_type": "stream",
     "text": [
      "['mozzarella', 'CINDERELLA', 'salmonella']\n",
      "['mozzarella', 'Cinderella', 'salmonella']\n"
     ]
    }
   ],
   "source": [
    "#4. Make a list called things with these three strings as elements: \"mozzarella\", \"cinderella\", \"salmonella\".\n",
    "#(A)\n",
    "\n",
    "things=[\"mozzarella\", \"cinderella\", \"salmonella\"]\n",
    "\n",
    "#5. Capitalize the element in things that refers to a person and then print the list.\n",
    "#Did it change the element in the list?\n",
    "#(A)\n",
    "\n",
    "things[1]=things[1].upper()\n",
    "print(things)\n",
    "things[1]=things[1].capitalize()\n",
    "print(things)\n",
    "\n",
    "\n",
    "#Yes, the element in the list is changed to \"CINDERELLA\" from \"cinderella\" or changed to \"Cindrella\" from \"cindrella\"\n",
    "\n"
   ]
  },
  {
   "cell_type": "code",
   "execution_count": 51,
   "metadata": {},
   "outputs": [
    {
     "name": "stdout",
     "output_type": "stream",
     "text": [
      "Initial Elements in the list, \"surprise\": ['Groucho', 'Chico', 'Harpo'] \n",
      "\n",
      "List elements after last element is lower cased: ['Groucho', 'Chico', 'harpo'] \n",
      "\n",
      "List elements after reversing the last element: ['Groucho', 'Chico', 'oprah'] \n",
      "\n",
      "List elements after last element is capitalized : ['Groucho', 'Chico', 'Harpo']\n"
     ]
    }
   ],
   "source": [
    "#6. Make a surprise list with the elements \"Groucho,\" \"Chico,\" and \"Harpo.\"\n",
    "#(A)\n",
    "\n",
    "surprise=[\"Groucho\",\"Chico\",\"Harpo\"]\n",
    "print(\"Initial Elements in the list, \\\"surprise\\\":\",surprise,\"\\n\")\n",
    "\n",
    "#7. Lowercase the last element of the surprise list, reverse it, and then capitalize it.\n",
    "#(A)\n",
    "\n",
    "length = len(surprise)\n",
    "\n",
    "for i in range(0,len(surprise)):\n",
    "    if i==length-1:\n",
    "        surprise[i]=surprise[i].lower()\n",
    "#        print(surprise[i][::-1])\n",
    "        print (\"List elements after last element is lower cased:\", surprise,\"\\n\")\n",
    "        surprise[i]=surprise[i][::-1]\n",
    "        print (\"List elements after reversing the last element:\", surprise,\"\\n\")\n",
    "        surprise[i]=surprise[i][::-1].capitalize()\n",
    "        print (\"List elements after last element is capitalized :\", surprise)\n",
    "\n",
    "        \n",
    "        \n"
   ]
  },
  {
   "cell_type": "code",
   "execution_count": 104,
   "metadata": {},
   "outputs": [
    {
     "name": "stdout",
     "output_type": "stream",
     "text": [
      "English to French dictionary: {'dog': 'chien', 'cat': 'chat', 'walrus': 'morse'} \n",
      "\n",
      "French word for 'cat' is 'chat'\n"
     ]
    }
   ],
   "source": [
    "#8. Make an English-to-French dictionary called e2f and print it. \n",
    "#Here are your starter words: dog is chien, cat is chat, and walrus is morse.\n",
    "#(A)\n",
    "e2f_dict={'dog':'chien','cat':'chat','walrus':'morse'}\n",
    "print(\"English to French dictionary:\",e2f_dict,\"\\n\")\n",
    "\n",
    "#9. Write the French word for walrus in your three-word dictionary e2f.\n",
    "#(A)\n",
    "print(r\"French word for '{}' is '{}'\".format('cat',e2f_dict.get('cat')))\n"
   ]
  },
  {
   "cell_type": "code",
   "execution_count": 105,
   "metadata": {},
   "outputs": [
    {
     "name": "stdout",
     "output_type": "stream",
     "text": [
      " English to French dictionary: {'dog': 'chien', 'cat': 'chat', 'walrus': 'morse'}\n",
      "\n",
      " French to english dictionary: {'chien': 'dog', 'chat': 'cat', 'morse': 'walrus'}\n",
      "\n",
      " English word for 'chien' is 'dog'\n"
     ]
    }
   ],
   "source": [
    "#10. Make a French-to-English dictionary called f2e from e2f. Use the items method.\n",
    "#(A)\n",
    "\n",
    "e2f_dict={'dog':'chien','cat':'chat','walrus':'morse'}\n",
    "f2e_dict={}\n",
    "\n",
    "for k,v in e2f_dict.items():\n",
    "    f2e_dict[v]=k\n",
    "    \n",
    "\n",
    "print(\" English to French dictionary:\",e2f_dict)\n",
    "print(\"\\n French to english dictionary:\",f2e_dict)\n",
    "\n",
    "\n",
    "#11. Print the English version of the French word chien using f2e.\n",
    "#(A)\n",
    "print(\"\\n English word for \\'{}\\' is \\'{}\\'\".format('chien',f2e_dict.get('chien')))\n",
    "\n"
   ]
  },
  {
   "cell_type": "code",
   "execution_count": 108,
   "metadata": {},
   "outputs": [
    {
     "name": "stdout",
     "output_type": "stream",
     "text": [
      "Set of English words from the keys in e2f dictionary: {'dog', 'walrus', 'cat'}\n"
     ]
    }
   ],
   "source": [
    "#12. Make and print a set of English words from the keys in e2f.\n",
    "#(A)\n",
    "e2f_dict={'dog':'chien','cat':'chat','walrus':'morse'}\n",
    "s=set()\n",
    "\n",
    "for k,v in e2f_dict.items():\n",
    "    s.add(k)\n",
    "    \n",
    "print(\"Set of English words from the keys in e2f dictionary:\",s)\n"
   ]
  },
  {
   "cell_type": "code",
   "execution_count": 122,
   "metadata": {},
   "outputs": [
    {
     "name": "stdout",
     "output_type": "stream",
     "text": [
      "{'animals': {'cats': ['Henri', 'Grumpy', 'Lucy'], 'octopi': '', 'emus': '{}'}, 'plants': '{}', 'other': '{}'}\n"
     ]
    }
   ],
   "source": [
    "#13. Make a multilevel dictionary called life. \n",
    "# Use these strings for the topmost keys: 'animals', 'plants', and 'other'. \n",
    "# Make the 'animals' key refer to another dictionary with the keys 'cats', 'octopi', and 'emus'. \n",
    "# Make the 'cats' key refer to a list of strings with the values 'Henri', 'Grumpy', and 'Lucy'. \n",
    "# Make all the other keys refer to empty dictionaries.\n",
    "life=dict()\n",
    "life={'animals':{'cats':['Henri', 'Grumpy','Lucy'],'octopi':'','emus':'{}'}, 'plants':'{}','other':'{}'}\n",
    "print(life)"
   ]
  },
  {
   "cell_type": "code",
   "execution_count": 155,
   "metadata": {},
   "outputs": [
    {
     "name": "stdout",
     "output_type": "stream",
     "text": [
      " Top level keys of life: {'animals', 'plants', 'other'} \n",
      "\n",
      " keys of life ['animals'] : {'cats', 'emus', 'octopi'} \n",
      "\n",
      " Value for life ['animals']['cats'] : ['Henri', 'Grumpy', 'Lucy']\n"
     ]
    }
   ],
   "source": [
    "#14. Print the top-level keys of life.\n",
    "#(A)\n",
    "\n",
    "print(\" Top level keys of life:\",{k for k,v in life.items()},\"\\n\")\n",
    "\n",
    "\n",
    "#15. Print the keys for life['animals'].\n",
    "#(A)\n",
    "\n",
    "print(r\" keys of life ['animals'] :\",{v for v in life.get('animals')},\"\\n\")\n",
    " \n",
    "#16. Print the values for life['animals']['cats']\n",
    "#(A)\n",
    "\n",
    "print(r\" Value for life ['animals']['cats'] :\",[v for v in life['animals']['cats']])\n",
    "\n"
   ]
  },
  {
   "cell_type": "code",
   "execution_count": null,
   "metadata": {},
   "outputs": [],
   "source": []
  }
 ],
 "metadata": {
  "kernelspec": {
   "display_name": "Python 3",
   "language": "python",
   "name": "python3"
  },
  "language_info": {
   "codemirror_mode": {
    "name": "ipython",
    "version": 3
   },
   "file_extension": ".py",
   "mimetype": "text/x-python",
   "name": "python",
   "nbconvert_exporter": "python",
   "pygments_lexer": "ipython3",
   "version": "3.8.5"
  }
 },
 "nbformat": 4,
 "nbformat_minor": 4
}
