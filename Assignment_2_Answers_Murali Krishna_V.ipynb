{
 "cells": [
  {
   "cell_type": "code",
   "execution_count": 1,
   "metadata": {},
   "outputs": [],
   "source": [
    "## (1)(A)\n",
    "## Boolean data values are True and False. They are written as True or False with the first letter in Capitals"
   ]
  },
  {
   "cell_type": "code",
   "execution_count": 2,
   "metadata": {},
   "outputs": [],
   "source": [
    "## (2)(A)\n",
    "## and, or and not are three types of boolean operators."
   ]
  },
  {
   "cell_type": "code",
   "execution_count": 3,
   "metadata": {},
   "outputs": [
    {
     "name": "stdout",
     "output_type": "stream",
     "text": [
      "A\tB\tA and B\n",
      "------------------------\n",
      "True\tTrue\tTrue\n",
      "True\tFalse\tFalse\n",
      "False\tTrue\tFalse\n",
      "False\tFalse\tFalse\n"
     ]
    }
   ],
   "source": [
    "## (3)(A)\n",
    "#Truth table for \"and\" boolean operator\n",
    "A=list ([True, True, False, False])\n",
    "B=list ([True, False, True, False])\n",
    "print (\"A\",\"B\",\"A and B\", sep='\\t')\n",
    "print (\"------------------------\")\n",
    "for i in range (0,4):\n",
    "    print (A[i], B[i], A[i] and B[i], sep='\\t')"
   ]
  },
  {
   "cell_type": "code",
   "execution_count": 5,
   "metadata": {},
   "outputs": [
    {
     "name": "stdout",
     "output_type": "stream",
     "text": [
      "A\tB\tA or B\n",
      "------------------------\n",
      "True\tTrue\tTrue\n",
      "True\tFalse\tTrue\n",
      "False\tTrue\tTrue\n",
      "False\tFalse\tFalse\n"
     ]
    }
   ],
   "source": [
    "#Truth table for \"or\" boolean operator\n",
    "A=list ([True, True, False, False])\n",
    "B=list ([True, False, True, False])\n",
    "print (\"A\",\"B\",\"A or B\", sep='\\t')\n",
    "print (\"------------------------\")\n",
    "for i in range (0,4):\n",
    "    print (A[i], B[i], A[i] or B[i], sep='\\t')"
   ]
  },
  {
   "cell_type": "code",
   "execution_count": 6,
   "metadata": {},
   "outputs": [
    {
     "name": "stdout",
     "output_type": "stream",
     "text": [
      "A\tnot A\n",
      "------------------------\n",
      "True\tFalse\n",
      "False\tTrue\n"
     ]
    }
   ],
   "source": [
    "## Truth table for \"not\" operator\n",
    "A = [True,False]\n",
    "print (\"A\",\"not A\", sep='\\t')\n",
    "print (\"------------------------\")\n",
    "for i in range (0,len(A)):\n",
    "    print (A[i], not (A[i]), sep='\\t')"
   ]
  },
  {
   "cell_type": "code",
   "execution_count": 15,
   "metadata": {},
   "outputs": [
    {
     "name": "stdout",
     "output_type": "stream",
     "text": [
      "False\n",
      "False\n",
      "True\n",
      "False\n"
     ]
    }
   ],
   "source": [
    "## (4)(A)\n",
    "print((5 > 4) and (3 == 5))\n",
    "print(not (5 > 4))\n",
    "print((5 > 4) or (3 == 5))\n",
    "print(not ((5 > 4) or (3 == 5)))"
   ]
  },
  {
   "cell_type": "code",
   "execution_count": 9,
   "metadata": {},
   "outputs": [],
   "source": [
    "## (5)(A) six different types of reference operators\n",
    "\n",
    "## & (bitwise AND)\n",
    "\n",
    "## | (bitwise OR)\n",
    "\n",
    "## ^ (bitwise XOR)\n",
    "\n",
    "## << (left shift)\n",
    "\n",
    "## >> (right shift)\n",
    "\n",
    "## ~ (bitwise complement)"
   ]
  },
  {
   "cell_type": "code",
   "execution_count": 10,
   "metadata": {},
   "outputs": [],
   "source": [
    "## (6)(A)\n",
    "## Equal operator is ‘==’ evaluates the equality between operands\n",
    "## Assignment operator ‘=’ assigns the value to a variable"
   ]
  },
  {
   "cell_type": "code",
   "execution_count": 14,
   "metadata": {},
   "outputs": [],
   "source": [
    "## (7)(A)\n",
    "#Condition is when a set of values or expressions etc satisfy a set of rules. \n",
    "#It is normally used depending on what rule is being evaluated.\n",
    "#e.g. <, >,,=,>=,==,!="
   ]
  },
  {
   "cell_type": "code",
   "execution_count": 18,
   "metadata": {},
   "outputs": [
    {
     "name": "stdout",
     "output_type": "stream",
     "text": [
      "spam\n"
     ]
    }
   ],
   "source": [
    "# (8)(A)\n",
    "spam = 0\n",
    "if spam == 10:\n",
    "    print('eggs')\n",
    "    if spam > 5:\n",
    "        print('bacon')\n",
    "    else:\n",
    "        print('ham')\n",
    "    print('spam')\n",
    "print('spam')\n",
    "\n",
    "# (A) spam\n",
    "\n",
    "#First block\n",
    "# if spam == 10:\n",
    "#    print('eggs')\n",
    "\n",
    "#Second block \n",
    "#if spam > 5:\n",
    "#       print('bacon')\n",
    "\n",
    "#Third block\n",
    "#else:\n",
    "#        print('ham')"
   ]
  },
  {
   "cell_type": "code",
   "execution_count": 22,
   "metadata": {},
   "outputs": [
    {
     "name": "stdout",
     "output_type": "stream",
     "text": [
      "5\n",
      "Something else is in spam\n"
     ]
    }
   ],
   "source": [
    "##(9)(A)\n",
    "spam = int (input())\n",
    "if spam >=1 and spam <=3:\n",
    "    if spam==1:\n",
    "        print (\"Hello\")\n",
    "    elif spam==2:\n",
    "        print (\"Howdy\")\n",
    "    elif spam==3:\n",
    "        print (\"Salutations\")\n",
    "else : \n",
    "    print(\"Something else is in spam\")"
   ]
  },
  {
   "cell_type": "code",
   "execution_count": 23,
   "metadata": {},
   "outputs": [],
   "source": [
    "## (10)(A)\n",
    "## Ctrl + c"
   ]
  },
  {
   "cell_type": "code",
   "execution_count": 24,
   "metadata": {},
   "outputs": [],
   "source": [
    "## (11)(A)\n",
    "## Break takes the control out of the conditional loop or iteration.\n",
    "## Continue takes the control to next loop or iteration in the conditional loop"
   ]
  },
  {
   "cell_type": "code",
   "execution_count": 39,
   "metadata": {},
   "outputs": [
    {
     "name": "stdout",
     "output_type": "stream",
     "text": [
      "0123456789\n",
      "\n",
      "0123456789\n",
      "\n",
      "0123456789"
     ]
    }
   ],
   "source": [
    "##(12)(A)\n",
    "for i in range(10):\n",
    "    print(i, end=\"\") \n",
    "print('\\n')\n",
    "for j in range(0,10):\n",
    "    print(j, end=\"\")\n",
    "print('\\n')        \n",
    "for k in range(0,10,1):\n",
    "    print(k, end=\"\")\n",
    "    \n",
    "#(A) the output is same"
   ]
  },
  {
   "cell_type": "code",
   "execution_count": 2,
   "metadata": {},
   "outputs": [
    {
     "name": "stdout",
     "output_type": "stream",
     "text": [
      "1\n",
      "2\n",
      "3\n",
      "4\n",
      "5\n",
      "6\n",
      "7\n",
      "8\n",
      "9\n",
      "10\n",
      "0\n",
      "1\n",
      "2\n",
      "3\n",
      "4\n",
      "5\n",
      "6\n",
      "7\n",
      "8\n",
      "9\n",
      "10\n"
     ]
    }
   ],
   "source": [
    "##(13)(A)\n",
    "for i in range(1,11):print (i)\n",
    "\n",
    "i=0\n",
    "while i <=10:\n",
    "    print (i)\n",
    "    i+=1"
   ]
  },
  {
   "cell_type": "code",
   "execution_count": null,
   "metadata": {},
   "outputs": [],
   "source": [
    "## (14)(A)\n",
    "##If you had a bacon() function within a spam module, what would you call it after importing spam?\n",
    "#import spam\n",
    "#spam.bacon()"
   ]
  }
 ],
 "metadata": {
  "kernelspec": {
   "display_name": "Python 3",
   "language": "python",
   "name": "python3"
  },
  "language_info": {
   "codemirror_mode": {
    "name": "ipython",
    "version": 3
   },
   "file_extension": ".py",
   "mimetype": "text/x-python",
   "name": "python",
   "nbconvert_exporter": "python",
   "pygments_lexer": "ipython3",
   "version": "3.8.5"
  }
 },
 "nbformat": 4,
 "nbformat_minor": 4
}
