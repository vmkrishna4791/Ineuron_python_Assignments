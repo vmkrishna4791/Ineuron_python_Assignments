{
 "cells": [
  {
   "cell_type": "code",
   "execution_count": 3,
   "metadata": {},
   "outputs": [
    {
     "name": "stdout",
     "output_type": "stream",
     "text": [
      "[1, 2, 3, 'str1', ['a', 'b', 'c'], 50.3, True]\n"
     ]
    }
   ],
   "source": [
    "#(1)(A)\n",
    "#[] is called a list. \n",
    "# It is a collection of homogeneous or Heterogeneous set of data types. \n",
    "#It holds an ordered group of elements, which are mutable and iterable.\n",
    "l1= [1,2,3,\"str1\",[\"a\",\"b\",\"c\"], 50.3, True]\n",
    "print(l1)"
   ]
  },
  {
   "cell_type": "code",
   "execution_count": 6,
   "metadata": {},
   "outputs": [
    {
     "name": "stdout",
     "output_type": "stream",
     "text": [
      "[2, 4, 6, 8, 10]\n",
      "[2, 4, 'Hello', 6, 8, 10]\n"
     ]
    }
   ],
   "source": [
    "#(2)(A)\n",
    "l1=[2, 4, 6, 8, 10]\n",
    "print(l1)\n",
    "l1.insert(2,\"Hello\")\n",
    "print(l1)"
   ]
  },
  {
   "cell_type": "code",
   "execution_count": 13,
   "metadata": {},
   "outputs": [
    {
     "name": "stdout",
     "output_type": "stream",
     "text": [
      "d\n",
      "d\n",
      "['a', 'b']\n"
     ]
    }
   ],
   "source": [
    "spam= ['a', 'b', 'c', 'd']\n",
    "#(3)(A)\n",
    "print(spam[int(int('3' * 2) / 11)])\n",
    "\n",
    "#(4)(A)\n",
    "print(spam[-1])\n",
    "\n",
    "#(5)(A)\n",
    "print(spam[:2])"
   ]
  },
  {
   "cell_type": "code",
   "execution_count": 20,
   "metadata": {},
   "outputs": [
    {
     "name": "stdout",
     "output_type": "stream",
     "text": [
      "1\n",
      "[3.14, 'cat', '11', 'cat', True, 99]\n",
      "[3.14, '11', 'cat', True, 99]\n"
     ]
    }
   ],
   "source": [
    "bacon = [3.14, 'cat','11', 'cat', True]\n",
    "\n",
    "#(6)(A)\n",
    "print(bacon.index('cat'))\n",
    "\n",
    "#(7)(A)\n",
    "bacon.append(99)\n",
    "print(bacon)\n",
    "\n",
    "\n",
    "#(8)(A)\n",
    "bacon.remove('cat')\n",
    "print(bacon)"
   ]
  },
  {
   "cell_type": "code",
   "execution_count": 23,
   "metadata": {},
   "outputs": [
    {
     "name": "stdout",
     "output_type": "stream",
     "text": [
      "[3.14, 'cat', '11', 'cat', True, 'a', 'b', 'c', 'd']\n",
      "[3.14, 'cat', '11', 'cat', True, 3.14, 'cat', '11', 'cat', True, 3.14, 'cat', '11', 'cat', True]\n"
     ]
    }
   ],
   "source": [
    "#(9)(A)\n",
    "#List concatenation\n",
    "l1=[3.14, 'cat','11', 'cat', True] + ['a', 'b', 'c', 'd']\n",
    "print(l1)\n",
    "\n",
    "#List replication\n",
    "l1=[3.14, 'cat','11', 'cat', True]\n",
    "l2=l1*3\n",
    "print(l2)\n"
   ]
  },
  {
   "cell_type": "code",
   "execution_count": 26,
   "metadata": {},
   "outputs": [
    {
     "name": "stdout",
     "output_type": "stream",
     "text": [
      "[3.14, 'cat', '11', 'cat', True]\n",
      "[3.14, 'cat', '11', 'cat', True, 'Append']\n",
      "[3.14, 'cat', '11', 'Insert', 'cat', True, 'Append']\n"
     ]
    }
   ],
   "source": [
    "#(10)(A)\n",
    "l1=[3.14, 'cat','11', 'cat', True]\n",
    "print(l1)\n",
    "#append(value) method takes one input and adds or concatenates it at the end of list\n",
    "l1.append(\"Append\")\n",
    "print(l1)\n",
    "#insert() method takes two inputs, an index value and an object and puts or inserst the object just before \n",
    "#that index value in the list.\n",
    "l1.insert(3,\"Insert\")\n",
    "print(l1)"
   ]
  },
  {
   "cell_type": "code",
   "execution_count": 28,
   "metadata": {},
   "outputs": [
    {
     "name": "stdout",
     "output_type": "stream",
     "text": [
      "[3.14, 'cat', '11', 'cat', True]\n",
      "[3.14, 'cat', '11', 'cat']\n",
      "[3.14, 'cat', '11']\n"
     ]
    }
   ],
   "source": [
    "#(11)(A)\n",
    "#the two methods for removing items from a list are remove and pop\n",
    "l1=[3.14, 'cat','11', 'cat', True]\n",
    "print(l1)\n",
    "l1.remove(True)\n",
    "print(l1)\n",
    "l1.pop(3)\n",
    "print(l1)"
   ]
  },
  {
   "cell_type": "code",
   "execution_count": 1,
   "metadata": {},
   "outputs": [],
   "source": [
    "#(12)(A)\n",
    "#Strings and Lists are collection of ordered items which are mutable. But strings are Immutable and Lists are mutable\n",
    "#Tuples and Lists are ordered collection of items which are immutable and iterable."
   ]
  },
  {
   "cell_type": "code",
   "execution_count": 2,
   "metadata": {},
   "outputs": [
    {
     "name": "stdout",
     "output_type": "stream",
     "text": [
      "(42,)\n"
     ]
    },
    {
     "data": {
      "text/plain": [
       "tuple"
      ]
     },
     "execution_count": 2,
     "metadata": {},
     "output_type": "execute_result"
    }
   ],
   "source": [
    "#(13)(A)\n",
    "#How do you type a tuple value that only contains the integer 42\n",
    "l=[42]\n",
    "tp1=tuple(l)\n",
    "print(tp1)\n",
    "type(tp1)"
   ]
  },
  {
   "cell_type": "code",
   "execution_count": 6,
   "metadata": {},
   "outputs": [
    {
     "name": "stdout",
     "output_type": "stream",
     "text": [
      "(1, 2, 3, 4, 'string')\n",
      "[2, 20, 40, 'True']\n"
     ]
    }
   ],
   "source": [
    "#(14)(A)\n",
    "#How do you get a list value's tuple form?\n",
    "l=[1,2,3,4,\"string\"]\n",
    "tp=tuple(l)\n",
    "print(tp)\n",
    "\n",
    "#How do you get a tuple value's list form?\n",
    "tp=(2,20,40,\"True\")\n",
    "l1=list(tp)\n",
    "print(l1)"
   ]
  },
  {
   "cell_type": "code",
   "execution_count": 7,
   "metadata": {},
   "outputs": [
    {
     "name": "stdout",
     "output_type": "stream",
     "text": [
      "2759938975616\n"
     ]
    }
   ],
   "source": [
    "l=[1,2,3,4,\"string\"]\n",
    "print(id(l))"
   ]
  },
  {
   "cell_type": "code",
   "execution_count": 8,
   "metadata": {},
   "outputs": [
    {
     "name": "stdout",
     "output_type": "stream",
     "text": [
      "2759938963200\n"
     ]
    }
   ],
   "source": [
    "#(16)(A)\n",
    "#It contains the reference to the list value\n",
    "l=[1,2,3,4,\"string\"]\n",
    "print(id(l))"
   ]
  },
  {
   "cell_type": "code",
   "execution_count": 21,
   "metadata": {},
   "outputs": [
    {
     "name": "stdout",
     "output_type": "stream",
     "text": [
      "Initial elements in list l1 before shallow copy\n",
      "['hello', 6, [True, False], 8]\n",
      "\n",
      "\n",
      "Elements in list l2 which is a shallow copy of list l1\n",
      "['hello', 6, [True, False], 8]\n",
      "\n",
      "\n",
      "Elements in list l2 after adding new element into list l2\n",
      "['hello', 6, ['Shallow_copy', False], 8]\n",
      "\n",
      "\n",
      "Elements in l1 after adding new element into the Shallow copy list l2\n",
      "['hello', 6, ['Shallow_copy', False], 8]\n",
      "\n",
      "\n",
      "\n",
      "Initial elements in list l1 before deep copying\n",
      "['hello', 6, [True, False], 8]\n",
      "\n",
      "\n",
      "Elements in list l2 which is a deep copy of list l1\n",
      "['hello', 6, [True, False], 8]\n",
      "\n",
      "\n",
      "Elements in list l2 after adding new element into list l2\n",
      "['hello', 6, [True, 'String'], 8]\n",
      "\n",
      "\n",
      "Elements in l1 after adding new element into the deep copy list l2\n",
      "['hello', 6, [True, False], 8]\n"
     ]
    }
   ],
   "source": [
    "#(17)(A)\n",
    "\n",
    "#copy.copy()\n",
    "\n",
    "# A shallow copy means constructing a new collection object and then populating it with references to the \n",
    "# child objects found in the original. The copying process doesn’t create copies \n",
    "# of the child objects themselves. In case of shallow copy, a reference of object is copied in other object.\n",
    "# It means that any changes made to a copy of object do reflect in the original object.\n",
    "\n",
    "import copy\n",
    "  \n",
    "# list 1\n",
    "l1 = [\"hello\", 6, [True,False], 8]\n",
    "  \n",
    "# using deepcopy function to create a deep copy \n",
    "l2 = copy.copy(l1)\n",
    "  \n",
    "\n",
    "print (\"Initial elements in list l1 before shallow copy\")\n",
    "print(l1)\n",
    "  \n",
    "print(\"\\n\")\n",
    "\n",
    "print (\"Elements in list l2 which is a shallow copy of list l1\")\n",
    "print(l2)\n",
    "\n",
    "print(\"\\n\")\n",
    "\n",
    "# adding an element to new list l2\n",
    "l2[2][0]=\"Shallow_copy\"\n",
    "  \n",
    "# values in list l2 after adding new element \n",
    "print (\"Elements in list l2 after adding new element into list l2\")\n",
    "print(l2)\n",
    "  \n",
    "print(\"\\n\")\n",
    "\n",
    "# Changes in l2 is not reflected in original list l1, as l2 is a deep copy\n",
    "print (\"Elements in l1 after adding new element into the Shallow copy list l2\")\n",
    "print(l1)\n",
    "\n",
    "\n",
    "print(\"\\n\"*2)\n",
    "\n",
    "#Deep copy\n",
    "\n",
    "# Deep copy is a process in which the copying process occurs recursively. It means first constructing a \n",
    "# new collection object and then recursively populates it with copies of the child objects found in the original.\n",
    "# In case of deep copy, a copy of object is copied in other object. \n",
    "# It means that any changes made to a copy of object do not reflect in the original object and vice versa.\n",
    "\n",
    "import copy\n",
    "  \n",
    "# list 1\n",
    "l1 = [\"hello\", 6, [True,False], 8]\n",
    "  \n",
    "# using deepcopy function to create a deep copy \n",
    "l2 = copy.deepcopy(l1)\n",
    "  \n",
    "\n",
    "print (\"Initial elements in list l1 before deep copying\")\n",
    "print(l1)\n",
    "  \n",
    "print(\"\\n\")\n",
    "\n",
    "print (\"Elements in list l2 which is a deep copy of list l1\")\n",
    "print(l2)\n",
    "\n",
    "print(\"\\n\")\n",
    "\n",
    "# adding an element to new list\n",
    "l2[2][1] = \"String\"\n",
    "  \n",
    "# values after adding element in l2 \n",
    "print (\"Elements in list l2 after adding new element into list l2\")\n",
    "print(l2)\n",
    "  \n",
    "print(\"\\n\")\n",
    "\n",
    "# Changes in l2 is not reflected in original list l1, as l2 is a deep copy\n",
    "print (\"Elements in l1 after adding new element into the deep copy list l2\")\n",
    "print(l1)"
   ]
  },
  {
   "cell_type": "code",
   "execution_count": null,
   "metadata": {},
   "outputs": [],
   "source": []
  }
 ],
 "metadata": {
  "kernelspec": {
   "display_name": "Python 3",
   "language": "python",
   "name": "python3"
  },
  "language_info": {
   "codemirror_mode": {
    "name": "ipython",
    "version": 3
   },
   "file_extension": ".py",
   "mimetype": "text/x-python",
   "name": "python",
   "nbconvert_exporter": "python",
   "pygments_lexer": "ipython3",
   "version": "3.8.5"
  }
 },
 "nbformat": 4,
 "nbformat_minor": 4
}
