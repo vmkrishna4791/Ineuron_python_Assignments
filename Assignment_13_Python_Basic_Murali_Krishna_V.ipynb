{
 "cells": [
  {
   "cell_type": "code",
   "execution_count": null,
   "metadata": {},
   "outputs": [],
   "source": [
    "#1. What advantages do Excel spreadsheets have over CSV spreadsheets?\n",
    "#(A)\n",
    "#CSV files are simple, lacking many of the features of an Excel spreadsheet. \n",
    "\n",
    "#For example, Excel sheets files:\n",
    "\n",
    "# It can hold different data types \n",
    "# The data can have different font size or color\n",
    "# It can have multiple worksheets\n",
    "#It can have images or charts embedded in them\n"
   ]
  },
  {
   "cell_type": "code",
   "execution_count": null,
   "metadata": {},
   "outputs": [],
   "source": [
    "#2.What do you pass to csv.reader() and csv.writer() to create reader and writer objects?\n",
    "#csv.reader(fileobject, delimiter=<>)\n",
    "#csv.writer(fileobject,delimiter=<>)\n",
    "\n"
   ]
  },
  {
   "cell_type": "code",
   "execution_count": null,
   "metadata": {},
   "outputs": [],
   "source": [
    "#3. What modes do File objects for reader and writer objects need to be opened in?\n",
    "#For reader the file object should be opened in read mode i.e. 'r' mode\n",
    "#For writer object the file object should be opened in a write mode i.e.'w' mode or Append mode i.e 'a'\n"
   ]
  },
  {
   "cell_type": "code",
   "execution_count": null,
   "metadata": {},
   "outputs": [],
   "source": [
    "#4. What method takes a list argument and writes it to a CSV file?\n",
    "#(A) writerow(list object)\n"
   ]
  },
  {
   "cell_type": "code",
   "execution_count": null,
   "metadata": {},
   "outputs": [],
   "source": [
    "#5. What do the keyword arguments delimiter and line terminator do?\n",
    "#The delimiter is the character that appears between cells on a row. By default, the delimiter for a CSV file is a comma.\n",
    "#The line terminator is the character that comes at the end of a row. By default, the line terminator is a newline \\r or \\n.\n"
   ]
  },
  {
   "cell_type": "code",
   "execution_count": 27,
   "metadata": {},
   "outputs": [
    {
     "name": "stdout",
     "output_type": "stream",
     "text": [
      "{'name': 'John', 'Desg': 'Engineer', 'Salary': 1000, 'Gender': 'Male'}\n",
      "<class 'dict'>\n"
     ]
    }
   ],
   "source": [
    "#6. What function takes a string of JSON data and returns a Python data structure?\n",
    "#(A)\n",
    "#json.loads(<jason data>)\n",
    "#e.g:\n",
    "import json\n",
    "json_data = '{\"name\": \"John\", \"Desg\": \"Engineer\", \"Salary\": 1000,\"Gender\": \"Male\"}'\n",
    "python_data = json.loads(json_data)\n",
    "print(python_data)\n",
    "print(type(python_data))"
   ]
  },
  {
   "cell_type": "code",
   "execution_count": 30,
   "metadata": {},
   "outputs": [
    {
     "name": "stdout",
     "output_type": "stream",
     "text": [
      "{\"name\": \"John\", \"Desg\": \"Engineer\", \"Salary\": 1000, \"Gender\": \"Male\"}\n",
      "<class 'str'>\n"
     ]
    },
    {
     "data": {
      "text/plain": [
       "'{\"name\": \"John\", \"Desg\": \"Engineer\", \"Salary\": 1000, \"Gender\": \"Male\"}'"
      ]
     },
     "execution_count": 30,
     "metadata": {},
     "output_type": "execute_result"
    }
   ],
   "source": [
    "#7. What function takes a Python data structure and returns a string of JSON data?\n",
    "#(A)\n",
    "#json.dumps(<python data>)\n",
    "#e.g:\n",
    "import json\n",
    "python_data = {'name': 'John', 'Desg': 'Engineer', 'Salary': 1000, 'Gender': 'Male'}\n",
    "json_data = json.dumps(python_data)\n",
    "print(json_data)\n",
    "print(type(json_data))\n",
    "json_data"
   ]
  }
 ],
 "metadata": {
  "kernelspec": {
   "display_name": "Python 3",
   "language": "python",
   "name": "python3"
  },
  "language_info": {
   "codemirror_mode": {
    "name": "ipython",
    "version": 3
   },
   "file_extension": ".py",
   "mimetype": "text/x-python",
   "name": "python",
   "nbconvert_exporter": "python",
   "pygments_lexer": "ipython3",
   "version": "3.8.5"
  }
 },
 "nbformat": 4,
 "nbformat_minor": 4
}
