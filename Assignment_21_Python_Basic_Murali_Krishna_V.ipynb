{
 "cells": [
  {
   "cell_type": "code",
   "execution_count": 2,
   "metadata": {},
   "outputs": [
    {
     "name": "stdout",
     "output_type": "stream",
     "text": [
      "Today date: 2021 04 30\n",
      "Parsing the date from today_string: 2021-04-30\n"
     ]
    }
   ],
   "source": [
    "from datetime import date, datetime, time\n",
    "import os\n",
    "\n",
    "\n",
    "#1. Add the current date to the text file today.txt as a string.\n",
    "#(A)\n",
    "\n",
    "today=datetime.today()\n",
    "tday=today.strftime('%Y %m %d')\n",
    "print(\"Today date:\",tday)\n",
    "\n",
    "f=open('today.txt','w+')\n",
    "\n",
    "f.write(tday)\n",
    "\n",
    "f.close()\n",
    "\n",
    "#2. Read the text file today.txt into the string today_string\n",
    "#(A)\n",
    "\n",
    "f=open('today.txt','r')\n",
    "\n",
    "today_string=f.read()\n",
    "\n",
    "f.close()\n",
    "\n",
    "#3. Parse the date from today_string.\n",
    "#(A)\n",
    "\n",
    "print(\"Parsing the date from today_string:\",format(datetime.date(datetime.strptime(today_string, '%Y %m %d'))))\n"
   ]
  },
  {
   "cell_type": "code",
   "execution_count": 13,
   "metadata": {},
   "outputs": [
    {
     "name": "stdout",
     "output_type": "stream",
     "text": [
      "D:\\Murali\\Fullstack_Datascience\\Python\\Basic_Assignments\\.ipynb_checkpoints\n",
      "D:\\Murali\\Fullstack_Datascience\\Python\\Basic_Assignments\\.~lock.Assignment_21.docx#\n",
      "D:\\Murali\\Fullstack_Datascience\\Python\\Basic_Assignments\\Assignment_10.docx\n",
      "D:\\Murali\\Fullstack_Datascience\\Python\\Basic_Assignments\\Assignment_10_Python_Basic_Murali_Krishna_V.ipynb\n",
      "D:\\Murali\\Fullstack_Datascience\\Python\\Basic_Assignments\\Assignment_11.docx\n",
      "D:\\Murali\\Fullstack_Datascience\\Python\\Basic_Assignments\\Assignment_11_Python_Basic_Murali_Krishna_V.ipynb\n",
      "D:\\Murali\\Fullstack_Datascience\\Python\\Basic_Assignments\\Assignment_12.docx\n",
      "D:\\Murali\\Fullstack_Datascience\\Python\\Basic_Assignments\\Assignment_13.docx\n",
      "D:\\Murali\\Fullstack_Datascience\\Python\\Basic_Assignments\\Assignment_14.docx\n",
      "D:\\Murali\\Fullstack_Datascience\\Python\\Basic_Assignments\\Assignment_15.docx\n",
      "D:\\Murali\\Fullstack_Datascience\\Python\\Basic_Assignments\\Assignment_16.docx\n",
      "D:\\Murali\\Fullstack_Datascience\\Python\\Basic_Assignments\\Assignment_16_Python_Basic_Murali_Krishna_V.ipynb\n",
      "D:\\Murali\\Fullstack_Datascience\\Python\\Basic_Assignments\\Assignment_17.docx\n",
      "D:\\Murali\\Fullstack_Datascience\\Python\\Basic_Assignments\\Assignment_17_Python_Basic_Murali_Krishna_V.ipynb\n",
      "D:\\Murali\\Fullstack_Datascience\\Python\\Basic_Assignments\\Assignment_18.docx\n",
      "D:\\Murali\\Fullstack_Datascience\\Python\\Basic_Assignments\\Assignment_18_Python_Basic_Murali_Krishna_V.ipynb\n",
      "D:\\Murali\\Fullstack_Datascience\\Python\\Basic_Assignments\\Assignment_19.docx\n",
      "D:\\Murali\\Fullstack_Datascience\\Python\\Basic_Assignments\\Assignment_19_Python_Basic_Murali_Krishna_V.ipynb\n",
      "D:\\Murali\\Fullstack_Datascience\\Python\\Basic_Assignments\\Assignment_1_Answers_Murali_Krihna _V.ipynb\n",
      "D:\\Murali\\Fullstack_Datascience\\Python\\Basic_Assignments\\Assignment_1_sol_Murali_Krihna _V.odt\n",
      "D:\\Murali\\Fullstack_Datascience\\Python\\Basic_Assignments\\Assignment_20.docx\n",
      "D:\\Murali\\Fullstack_Datascience\\Python\\Basic_Assignments\\Assignment_21.docx\n",
      "D:\\Murali\\Fullstack_Datascience\\Python\\Basic_Assignments\\Assignment_21_Python_Basic_Murali_Krishna_V.ipynb\n",
      "D:\\Murali\\Fullstack_Datascience\\Python\\Basic_Assignments\\Assignment_22.docx\n",
      "D:\\Murali\\Fullstack_Datascience\\Python\\Basic_Assignments\\Assignment_23.docx\n",
      "D:\\Murali\\Fullstack_Datascience\\Python\\Basic_Assignments\\Assignment_24.docx\n",
      "D:\\Murali\\Fullstack_Datascience\\Python\\Basic_Assignments\\Assignment_25.docx\n",
      "D:\\Murali\\Fullstack_Datascience\\Python\\Basic_Assignments\\Assignment_2_Answers_Murali Krishna_V.ipynb\n",
      "D:\\Murali\\Fullstack_Datascience\\Python\\Basic_Assignments\\Assignment_2_Murali Krishna_V.odt\n",
      "D:\\Murali\\Fullstack_Datascience\\Python\\Basic_Assignments\\Assignment_3.docx\n",
      "D:\\Murali\\Fullstack_Datascience\\Python\\Basic_Assignments\\Assignment_3_python_basic_Murali_Krishna_V.ipynb\n",
      "D:\\Murali\\Fullstack_Datascience\\Python\\Basic_Assignments\\Assignment_4.docx\n",
      "D:\\Murali\\Fullstack_Datascience\\Python\\Basic_Assignments\\Assignment_4_python_basic_Murali_Krishna_V.ipynb\n",
      "D:\\Murali\\Fullstack_Datascience\\Python\\Basic_Assignments\\Assignment_5.docx\n",
      "D:\\Murali\\Fullstack_Datascience\\Python\\Basic_Assignments\\Assignment_5_python_basic_Murali_Krishna_V.ipynb\n",
      "D:\\Murali\\Fullstack_Datascience\\Python\\Basic_Assignments\\Assignment_6.docx\n",
      "D:\\Murali\\Fullstack_Datascience\\Python\\Basic_Assignments\\Assignment_6_Python_Basic_Murali_Krishna_V.ipynb\n",
      "D:\\Murali\\Fullstack_Datascience\\Python\\Basic_Assignments\\Assignment_7.docx\n",
      "D:\\Murali\\Fullstack_Datascience\\Python\\Basic_Assignments\\Assignment_8.docx\n",
      "D:\\Murali\\Fullstack_Datascience\\Python\\Basic_Assignments\\Assignment_9.docx\n",
      "D:\\Murali\\Fullstack_Datascience\\Python\\Basic_Assignments\\Assignment_9_Python_Basic_Murali_Krishna_V.ipynb\n",
      "D:\\Murali\\Fullstack_Datascience\\Python\\Basic_Assignments\\New folder\n",
      "D:\\Murali\\Fullstack_Datascience\\Python\\Basic_Assignments\\self_study_regexp(re)_and_dates.ipynb\n",
      "D:\\Murali\\Fullstack_Datascience\\Python\\Basic_Assignments\\today.txt\n",
      "D:\\Murali\\Fullstack_Datascience\\Python\\Basic_Assignments\\Untitled.ipynb\n",
      "D:\\Murali\\Fullstack_Datascience\\Python\\Basic_Assignments\\Untitled1.ipynb\n",
      "D:\\Murali\\Fullstack_Datascience\\Python\\Basic_Assignments\\Untitled2.ipynb\n",
      "D:\\Murali\\Fullstack_Datascience\\Python\\Basic_Assignments\\Untitled3.ipynb\n",
      "D:\\Murali\\Fullstack_Datascience\\Python\\Basic_Assignments\\Untitled4.ipynb\n",
      "D:\\Murali\\Fullstack_Datascience\\Python\\Basic_Assignments\\Untitled5.ipynb\n",
      "D:\\Murali\\Fullstack_Datascience\\Python\\Basic_Assignments\\zoo.py\n",
      "D:\\Murali\\Fullstack_Datascience\\Python\\Basic_Assignments\\__pycache__\n"
     ]
    }
   ],
   "source": [
    "#4. List the files in your current directory\n",
    "import os\n",
    "import shutil\n",
    "\n",
    "for files in os.listdir():\n",
    "    print(os.path.join(os.getcwd(),files))\n",
    "          \n",
    "\n"
   ]
  },
  {
   "cell_type": "code",
   "execution_count": 15,
   "metadata": {},
   "outputs": [
    {
     "name": "stdout",
     "output_type": "stream",
     "text": [
      "['.ipynb_checkpoints', '.~lock.Assignment_21.docx#', 'Assignment_10.docx', 'Assignment_10_Python_Basic_Murali_Krishna_V.ipynb', 'Assignment_11.docx', 'Assignment_11_Python_Basic_Murali_Krishna_V.ipynb', 'Assignment_12.docx', 'Assignment_13.docx', 'Assignment_14.docx', 'Assignment_15.docx', 'Assignment_16.docx', 'Assignment_16_Python_Basic_Murali_Krishna_V.ipynb', 'Assignment_17.docx', 'Assignment_17_Python_Basic_Murali_Krishna_V.ipynb', 'Assignment_18.docx', 'Assignment_18_Python_Basic_Murali_Krishna_V.ipynb', 'Assignment_19.docx', 'Assignment_19_Python_Basic_Murali_Krishna_V.ipynb', 'Assignment_1_Answers_Murali_Krihna _V.ipynb', 'Assignment_1_sol_Murali_Krihna _V.odt', 'Assignment_20.docx', 'Assignment_21.docx', 'Assignment_21_Python_Basic_Murali_Krishna_V.ipynb', 'Assignment_22.docx', 'Assignment_23.docx', 'Assignment_24.docx', 'Assignment_25.docx', 'Assignment_2_Answers_Murali Krishna_V.ipynb', 'Assignment_2_Murali Krishna_V.odt', 'Assignment_3.docx', 'Assignment_3_python_basic_Murali_Krishna_V.ipynb', 'Assignment_4.docx', 'Assignment_4_python_basic_Murali_Krishna_V.ipynb', 'Assignment_5.docx', 'Assignment_5_python_basic_Murali_Krishna_V.ipynb', 'Assignment_6.docx', 'Assignment_6_Python_Basic_Murali_Krishna_V.ipynb', 'Assignment_7.docx', 'Assignment_8.docx', 'Assignment_9.docx', 'Assignment_9_Python_Basic_Murali_Krishna_V.ipynb', 'New folder', 'self_study_regexp(re)_and_dates.ipynb', 'today.txt', 'Untitled.ipynb', 'Untitled1.ipynb', 'Untitled2.ipynb', 'Untitled3.ipynb', 'Untitled4.ipynb', 'Untitled5.ipynb', 'zoo.py', '__pycache__']\n"
     ]
    }
   ],
   "source": [
    "#5. Create a list of all of the files in your parent directory (minimum five files should be available).\n",
    "#(A)\n",
    "\n",
    "\n",
    "import os\n",
    "import shutil\n",
    "\n",
    "file_list=[]\n",
    "\n",
    "for files in os.listdir():\n",
    "    file_list.append(files)\n",
    "    \n",
    "print(file_list)"
   ]
  },
  {
   "cell_type": "code",
   "execution_count": null,
   "metadata": {},
   "outputs": [],
   "source": [
    "#6. Use multiprocessing to create three separate processes. \n",
    "#Make each one wait a random number of seconds between one and five, print the current time, and then exit.\n",
    "#(A)\n"
   ]
  },
  {
   "cell_type": "code",
   "execution_count": 23,
   "metadata": {},
   "outputs": [
    {
     "name": "stdout",
     "output_type": "stream",
     "text": [
      "My dob is 1976-05-23\n",
      "week day of my dob is Sunday\n",
      "After 10000 days from dob, it will be 1979-02-17\n"
     ]
    }
   ],
   "source": [
    "#7. Create a date object of your day of birth.\n",
    "#(A)\n",
    "\n",
    "\n",
    "from datetime import timedelta, date, datetime\n",
    "\n",
    "mydob    = date(1976,5,23)\n",
    "\n",
    "print(\"My dob is {}\".format(mydob))\n",
    "\n",
    "\n",
    "#8. What day of the week was your day of birth?\n",
    "#(A)\n",
    "\n",
    "wk_day_dob  = mydob.strftime('%A')\n",
    "\n",
    "print(\"week day of my dob is {}\".format(wk_day_dob))\n",
    "\n",
    "\n",
    "\n",
    "#9. When will you be (or when were you) 10,000 days old?\n",
    "\n",
    "new=mydob+timedelta(days=1000)\n",
    "\n",
    "print(\"After 10000 days from dob, it will be {}\".format(new))\n"
   ]
  },
  {
   "cell_type": "code",
   "execution_count": null,
   "metadata": {},
   "outputs": [],
   "source": []
  }
 ],
 "metadata": {
  "kernelspec": {
   "display_name": "Python 3",
   "language": "python",
   "name": "python3"
  }
 },
 "nbformat": 4,
 "nbformat_minor": 4
}
