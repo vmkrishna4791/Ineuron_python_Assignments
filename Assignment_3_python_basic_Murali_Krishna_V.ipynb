{
 "cells": [
  {
   "cell_type": "code",
   "execution_count": null,
   "metadata": {},
   "outputs": [],
   "source": [
    "#1. What are the benefits of including roles in the programmes?\n",
    "#(A) Modularity, Reusability, avoid repition, Ease of use"
   ]
  },
  {
   "cell_type": "code",
   "execution_count": null,
   "metadata": {},
   "outputs": [],
   "source": [
    "#2. When does the code in a function run: when it's specified or when it's called?\n",
    "#(A) A function runs when it is called"
   ]
  },
  {
   "cell_type": "code",
   "execution_count": null,
   "metadata": {},
   "outputs": [],
   "source": [
    "#3. What statement causes a feature to be created?\n",
    "#(A) import statement and function call statements\n"
   ]
  },
  {
   "cell_type": "code",
   "execution_count": 5,
   "metadata": {},
   "outputs": [
    {
     "name": "stdout",
     "output_type": "stream",
     "text": [
      "Inside the func()\n"
     ]
    }
   ],
   "source": [
    "#4. What is the distinction between a function and a call to a function?\n",
    "#(A) \n",
    "def func():  # This is a function\n",
    "        print(\"Inside the func()\")\n",
    "        \n",
    "func() # call to the function func() "
   ]
  },
  {
   "cell_type": "code",
   "execution_count": null,
   "metadata": {},
   "outputs": [],
   "source": [
    "#5. In a Python application, how many global scopes are there? How many local scopes are there?\n",
    "#(A) There can be only one global scope and multiple local scopes in python applications.\n"
   ]
  },
  {
   "cell_type": "code",
   "execution_count": null,
   "metadata": {},
   "outputs": [],
   "source": [
    "#6. When a function call returns, what happens to variables in the local scope?\n",
    "#(A) The variable in local scope are destroyed after the a function call return. \n"
   ]
  },
  {
   "cell_type": "code",
   "execution_count": null,
   "metadata": {},
   "outputs": [],
   "source": [
    "#7. What is the concept of a return value? Is it possible to have a return value in an expression?\n",
    "#(A)\n",
    "#The value a function call evaluates or calculates is called a return value.\n",
    "#Yes, it is possible to have a return value in an expression.\n"
   ]
  },
  {
   "cell_type": "code",
   "execution_count": null,
   "metadata": {},
   "outputs": [],
   "source": [
    "#8. What is the return value of a call to a function that does not have a return statement?\n",
    "#(A)\n",
    "# The return value of the a call to a function that doesnt have return statement is 'None'"
   ]
  },
  {
   "cell_type": "code",
   "execution_count": 9,
   "metadata": {},
   "outputs": [
    {
     "name": "stdout",
     "output_type": "stream",
     "text": [
      "John\n"
     ]
    }
   ],
   "source": [
    "#9. How do you make a function variable refer to the global variable?\n",
    "#(A) define the variable explicitly as global\n",
    "\n",
    "def func1():\n",
    "    global name # the variable name is explicitly defined as global\n",
    "    name = 'John' # 'John' assigned to the global variable name\n",
    "\n",
    "name = 'David' # name variable assigned 'David'\n",
    "func1() # function call \n",
    "print(name) #The global value of the variable name is printed"
   ]
  },
  {
   "cell_type": "code",
   "execution_count": null,
   "metadata": {},
   "outputs": [],
   "source": [
    "#10. What data form does None belong to?\n",
    "#(A)It belongs to NoneType data type\n"
   ]
  },
  {
   "cell_type": "code",
   "execution_count": 12,
   "metadata": {},
   "outputs": [
    {
     "data": {
      "text/plain": [
       "<module 'os' from 'D:\\\\Anaconda\\\\lib\\\\os.py'>"
      ]
     },
     "execution_count": 12,
     "metadata": {},
     "output_type": "execute_result"
    }
   ],
   "source": [
    "#11. What does the sentence import areallyourpetsnamederic do?\n",
    "'''(A) The import statement makes the module \"areallyourpetsnamederic\"\n",
    "available in the file where it is being imported. Thereby the objects and functions of the \n",
    "imported module can be accessed using the module name followed by a dot(.)'''  \n",
    "\n",
    "import os\n",
    "os"
   ]
  },
  {
   "cell_type": "code",
   "execution_count": 14,
   "metadata": {},
   "outputs": [],
   "source": [
    "#12. If you had a bacon() feature in a spam module, what would you call it after importing spam?\n",
    "#(A)\n",
    "#import spam\n",
    "#spam.bacon()\n"
   ]
  },
  {
   "cell_type": "code",
   "execution_count": 16,
   "metadata": {},
   "outputs": [
    {
     "name": "stdout",
     "output_type": "stream",
     "text": [
      "division by zero\n"
     ]
    }
   ],
   "source": [
    "#13. What can you do to save a programme from crashing if it encounters an error?\n",
    "#(A) By Exception handling using try-except blocks we can handle the error and \n",
    "#avoid a programme from crashing\n",
    "\n",
    "def division(a,b):\n",
    "    c=a/b\n",
    "    return(c)\n",
    "\n",
    "try:\n",
    "    division(10,0)\n",
    "except Exception as e:\n",
    "    print(e)"
   ]
  },
  {
   "cell_type": "code",
   "execution_count": null,
   "metadata": {},
   "outputs": [],
   "source": [
    "#14. What is the purpose of the try clause? What is the purpose of the except clause?\n",
    "#(A)The try clause encloses the code where the error night occur\n",
    "#The except clause handles the error thrown by the try clause and accordinlgy proceed further."
   ]
  }
 ],
 "metadata": {
  "kernelspec": {
   "display_name": "Python 3",
   "language": "python",
   "name": "python3"
  },
  "language_info": {
   "codemirror_mode": {
    "name": "ipython",
    "version": 3
   },
   "file_extension": ".py",
   "mimetype": "text/x-python",
   "name": "python",
   "nbconvert_exporter": "python",
   "pygments_lexer": "ipython3",
   "version": "3.8.5"
  }
 },
 "nbformat": 4,
 "nbformat_minor": 4
}
