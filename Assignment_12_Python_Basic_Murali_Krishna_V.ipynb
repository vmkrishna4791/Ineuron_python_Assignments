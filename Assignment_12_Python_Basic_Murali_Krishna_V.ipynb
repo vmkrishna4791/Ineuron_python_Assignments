{
 "cells": [
  {
   "cell_type": "code",
   "execution_count": 1,
   "metadata": {},
   "outputs": [
    {
     "name": "stdout",
     "output_type": "stream",
     "text": [
      "Collecting PyPDF2==1.26.0\n",
      "  Downloading PyPDF2-1.26.0.tar.gz (77 kB)\n",
      "Building wheels for collected packages: PyPDF2\n",
      "  Building wheel for PyPDF2 (setup.py): started\n",
      "  Building wheel for PyPDF2 (setup.py): finished with status 'done'\n",
      "  Created wheel for PyPDF2: filename=PyPDF2-1.26.0-py3-none-any.whl size=61087 sha256=0054f8670dd1a495372869a7fa9a26c8acab283cbede8bb59bab3f2c1d5d2622\n",
      "  Stored in directory: c:\\users\\admin\\appdata\\local\\pip\\cache\\wheels\\b1\\1a\\8f\\a4c34be976825a2f7948d0fa40907598d69834f8ab5889de11\n",
      "Successfully built PyPDF2\n",
      "Installing collected packages: PyPDF2\n",
      "Successfully installed PyPDF2-1.26.0\n"
     ]
    }
   ],
   "source": [
    "#1. In what modes should the PdfFileReader() and PdfFileWriter() File objects will be opened?\n",
    "! pip install --user PyPDF2==1.26.0\n",
    "\n",
    "# PdfFileReader() should be opened in read - binary mode\n",
    "#e.g.pdfreaderobj=PdfFileReader(open('<file-name>.pdf','rb'))\n",
    "\n",
    "#PdfFileWriter() should be opened in write - binary mode\n",
    "\n",
    "#e.g.pdfwriterobj=PdfFilewriter(open('<file-name>.pdf','wb'))\n",
    "\n",
    "\n",
    "\n"
   ]
  },
  {
   "cell_type": "code",
   "execution_count": null,
   "metadata": {},
   "outputs": [],
   "source": [
    "#2. From a PdfFileReader object, how do you get a Page object for page 5?\n",
    "##e.g.\n",
    "#pdfreaderobj=PdfFileReader(open('<file-name>.pdf','rb'))\n",
    "#pdfreaderobj.getPage(4) # The page numbering starts from '0'. So, to get to page number 5, we \n",
    "# to pass page number '4' as parameter to getPage() function \n"
   ]
  },
  {
   "cell_type": "code",
   "execution_count": null,
   "metadata": {},
   "outputs": [],
   "source": [
    "#3. What PdfFileReader variable stores the number of pages in the PDF document?\n",
    "#The number of pages in the PDF document is stored in the numPages attribute of a PdfFileReader. "
   ]
  },
  {
   "cell_type": "code",
   "execution_count": null,
   "metadata": {},
   "outputs": [],
   "source": [
    "#4. If a PdfFileReader object’s PDF is encrypted with the password swordfish, what must you do before you can obtain Page objects from it?\n",
    "#(A) To open a encrypted PDF file, it has to be decrypted using decrpyt('<password>')\n",
    "\n",
    "#e.g\n",
    "#pdfreaderobj=PdfFileReader(open('<file-name>.pdf','rb'))\n",
    "#pdfreaderobj.decrypt('swordfish')\n",
    "\n"
   ]
  },
  {
   "cell_type": "code",
   "execution_count": null,
   "metadata": {},
   "outputs": [],
   "source": [
    "#5. What methods do you use to rotate a page?\n",
    "#rotateClockwise('angle of rotation')"
   ]
  },
  {
   "cell_type": "code",
   "execution_count": null,
   "metadata": {},
   "outputs": [],
   "source": [
    "#6. What is the difference between a Run object and a Paragraph object?\n",
    "# At the highest level, a Document object represents the entire document. \n",
    "# The Document object contains a list of Paragraph objects for the paragraphs in the document.\n",
    "# A new paragraph starts when the user presses <ENTER> or <RETURN> in the word document.\n",
    "# Each of these Paragraph objects contains a list of one or more Run objects.\n",
    "# It has font, size, color, and other styling information associated with it. \n",
    "# A style in Word is a collection of these attributes. A Run object is a contiguous run of text \n",
    "# with the same style. A whenever the text style changes. a new run object is required.\n",
    "\n"
   ]
  },
  {
   "cell_type": "code",
   "execution_count": null,
   "metadata": {},
   "outputs": [],
   "source": [
    "#7. How do you obtain a list of Paragraph objects for a Document object that’s stored in a variable named doc?\n",
    "# import docx\n",
    "#doc=Document('<file-name.docx')\n",
    "#doc.paragraphs # This returns the list of Paragraph objects in a word document"
   ]
  },
  {
   "cell_type": "code",
   "execution_count": null,
   "metadata": {},
   "outputs": [],
   "source": [
    "#8. What type of object has bold, underline, italic, strike, and outline variables?\n",
    "#The run object has bold, underline, italic, strike, and outline variables.\n"
   ]
  },
  {
   "cell_type": "code",
   "execution_count": null,
   "metadata": {},
   "outputs": [],
   "source": [
    "#9. What is the difference between False, True, and None for the bold variable?\n",
    "# If the Bold variable is set to False, the variable is always disabled.\n",
    "#If the Bold variable is set to True, the variable is always enabled, no matter what other styles are applied to the run.\n",
    "#If the Bold variable is set to none, defaults to whatever the run’s style is set to.\n"
   ]
  },
  {
   "cell_type": "code",
   "execution_count": 3,
   "metadata": {},
   "outputs": [],
   "source": [
    "#10. How do you create a Document object for a new Word document?\n",
    "#\n",
    "import docx\n",
    "doc = docx.Document()\n",
    "doc.save('sample.docx') # this creates a blank new word document sample.docx in the current directory.\n"
   ]
  },
  {
   "cell_type": "code",
   "execution_count": 4,
   "metadata": {},
   "outputs": [],
   "source": [
    "#11. How do you add a paragraph with the text 'Hello, there!' to a Document object stored in a variable named doc?\n",
    "import docx\n",
    "doc = docx.Document()\n",
    "doc.add_paragraph('Hello, there!')\n",
    "doc.save('hellothere.docx')  # this creates a new word document hellothere.docx in the current \n",
    "# directory containing the 'Hello, there!' text.\n"
   ]
  },
  {
   "cell_type": "code",
   "execution_count": 5,
   "metadata": {},
   "outputs": [],
   "source": [
    "#12. What integers represent the levels of headings available in Word documents?\n",
    "#\n",
    "#The integer 0 makes the heading the Title style, which is used for the top of the document. \n",
    "#Integers 1 to 4 are for various heading levels, with 1 being the main heading and 4 the lowest subheading.\n",
    "\n",
    "import docx\n",
    "doc = docx.Document()\n",
    "doc.add_heading('Main Title', 0)\n",
    "\n",
    "doc.add_heading('Heading', 1)\n",
    "\n",
    "doc.add_heading('Subheading 2', 2)\n",
    "\n",
    "doc.add_heading('Sunheading 3', 3)\n",
    "\n",
    "doc.add_heading('Subheading 4', 4)\n",
    "\n",
    "doc.save('headings.docx') # heading.docx is created in current directory"
   ]
  },
  {
   "cell_type": "code",
   "execution_count": null,
   "metadata": {},
   "outputs": [],
   "source": []
  }
 ],
 "metadata": {
  "kernelspec": {
   "display_name": "Python 3",
   "language": "python",
   "name": "python3"
  },
  "language_info": {
   "codemirror_mode": {
    "name": "ipython",
    "version": 3
   },
   "file_extension": ".py",
   "mimetype": "text/x-python",
   "name": "python",
   "nbconvert_exporter": "python",
   "pygments_lexer": "ipython3",
   "version": "3.8.5"
  }
 },
 "nbformat": 4,
 "nbformat_minor": 4
}
