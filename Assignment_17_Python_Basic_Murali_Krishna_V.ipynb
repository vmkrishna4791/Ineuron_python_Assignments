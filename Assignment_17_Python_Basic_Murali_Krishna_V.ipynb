{
 "cells": [
  {
   "cell_type": "code",
   "execution_count": 5,
   "metadata": {},
   "outputs": [
    {
     "name": "stdout",
     "output_type": "stream",
     "text": [
      "Enter a integer: 7\n",
      "Just right\n"
     ]
    }
   ],
   "source": [
    "#1. Assign the value 7 to the variable guess_me. \n",
    "# Then, write the conditional tests (if, else, and elif) \n",
    "#to print the string 'too low' if guess_me is less than 7, 'too high' \n",
    "#if greater than 7, and 'just right' if equal to 7.\n",
    "#(A)\n",
    "\n",
    "guess_me=int(input(\"Enter a integer: \"))\n",
    "if (guess_me < 7):\n",
    "    print (\"Too Low\")\n",
    "elif (guess_me > 7):\n",
    "    print(\"Too High\")\n",
    "else:\n",
    "    print (\"Just right\")\n",
    "\n"
   ]
  },
  {
   "cell_type": "code",
   "execution_count": 11,
   "metadata": {},
   "outputs": [
    {
     "name": "stdout",
     "output_type": "stream",
     "text": [
      "Enter a integer: 7\n",
      "guess_me= 7 \n",
      "\n",
      "start= 1 \n",
      "\n",
      "Too Low\n",
      "Too Low\n",
      "Too Low\n",
      "Too Low\n",
      "Too Low\n",
      "Too Low\n",
      "Found it\n"
     ]
    }
   ],
   "source": [
    "#2. Assign the value 7 to the variable guess_me and the value 1 to the variable start. \n",
    "#Write a while loop that compares start with guess_me.\n",
    "#Print too low if start is less than guess me. If start equals guess_me, print 'found it!' and exit the loop.\n",
    "#If start is greater than guess_me, print 'oops' and exit the loop. Increment start at the end of the loop.\n",
    "#(A)\n",
    "\n",
    "guess_me=int(input(\"Enter a integer: \"))\n",
    "start=1\n",
    "\n",
    "print (\"guess_me=\",guess_me,\"\\n\")\n",
    "\n",
    "print (\"start=\",start,\"\\n\")\n",
    "\n",
    "while (True):\n",
    "    if start < guess_me:\n",
    "        print (\"Too Low\")\n",
    "    elif start == guess_me:\n",
    "        print (\"Found it\")\n",
    "        break\n",
    "    else:\n",
    "        print(\"Oops\")\n",
    "        break\n",
    "    start = start + 1\n",
    "\n",
    "\n"
   ]
  },
  {
   "cell_type": "code",
   "execution_count": 12,
   "metadata": {},
   "outputs": [
    {
     "name": "stdout",
     "output_type": "stream",
     "text": [
      "3\n",
      "2\n",
      "1\n",
      "0\n"
     ]
    }
   ],
   "source": [
    "#3.Print the following values of the list [3, 2, 1, 0] using a for loop.\n",
    "#(A)\n",
    "lst=[3, 2, 1, 0]\n",
    "\n",
    "for i in range(0,len(lst)):\n",
    "    print(lst[i])"
   ]
  },
  {
   "cell_type": "code",
   "execution_count": 24,
   "metadata": {},
   "outputs": [
    {
     "name": "stdout",
     "output_type": "stream",
     "text": [
      "[0, 2, 4, 6, 8]\n"
     ]
    }
   ],
   "source": [
    "#4. Use a list comprehension to make a list of the even numbers in range(10)\n",
    "#(A)\n",
    "print( [i for i in range(10) if i%2 == 0])"
   ]
  },
  {
   "cell_type": "code",
   "execution_count": 25,
   "metadata": {},
   "outputs": [
    {
     "name": "stdout",
     "output_type": "stream",
     "text": [
      "{0: 0, 1: 1, 2: 4, 3: 9, 4: 16, 5: 25, 6: 36, 7: 49, 8: 64, 9: 81}\n"
     ]
    }
   ],
   "source": [
    "#5. Use a dictionary comprehension to create the dictionary squares.\n",
    "#Use range(10) to return the keys, and use the square of each key as its value.\n",
    "#(A)\n",
    "print({i:i**2 for i in range(10)})"
   ]
  },
  {
   "cell_type": "code",
   "execution_count": 35,
   "metadata": {},
   "outputs": [
    {
     "name": "stdout",
     "output_type": "stream",
     "text": [
      "{1, 3, 5, 7, 9}\n"
     ]
    }
   ],
   "source": [
    "#6. Construct the set odd from the odd numbers in the range using a set comprehension (10).\n",
    "#(A)\n",
    "\n",
    "print(set(i for i in range(10) if i%2==1))"
   ]
  },
  {
   "cell_type": "code",
   "execution_count": 42,
   "metadata": {},
   "outputs": [
    {
     "name": "stdout",
     "output_type": "stream",
     "text": [
      "Got0\n",
      "Got1\n",
      "Got2\n",
      "Got3\n",
      "Got4\n",
      "Got5\n",
      "Got6\n",
      "Got7\n",
      "Got8\n",
      "Got9\n"
     ]
    }
   ],
   "source": [
    "#7. Use a generator comprehension to return the string 'Got ' and a number for the numbers in range(10).\n",
    "#Iterate through this by using a for loop.\n",
    "#(A)\n",
    "\n",
    "gc=('Got'+ str(i) for i in range(10))\n",
    "\n",
    "for j in gc:\n",
    "    print(j)"
   ]
  },
  {
   "cell_type": "code",
   "execution_count": 43,
   "metadata": {},
   "outputs": [
    {
     "data": {
      "text/plain": [
       "['Harry', 'Ron', 'Hermione']"
      ]
     },
     "execution_count": 43,
     "metadata": {},
     "output_type": "execute_result"
    }
   ],
   "source": [
    "#8. Define a function called good that returns the list ['Harry', 'Ron', 'Hermione'].\n",
    "#(A)\n",
    "def good():\n",
    "    return ['Harry', 'Ron', 'Hermione']\n",
    "\n",
    "good()"
   ]
  },
  {
   "cell_type": "code",
   "execution_count": 55,
   "metadata": {},
   "outputs": [
    {
     "name": "stdout",
     "output_type": "stream",
     "text": [
      "Third value returned is 5\n"
     ]
    }
   ],
   "source": [
    "#9. Define a generator function called get_odds that returns the odd numbers from range(10). \n",
    "#Use a for loop to find and print the third value returned.\n",
    "#(A)\n",
    "\n",
    "def get_odds():\n",
    "    return(i for i in range(10) if i%2==1)\n",
    "\n",
    "count=1\n",
    "for j in get_odds():\n",
    "    if count ==3:\n",
    "        print(\"Third value returned is\", j)\n",
    "    count = count +1"
   ]
  },
  {
   "cell_type": "code",
   "execution_count": 62,
   "metadata": {},
   "outputs": [
    {
     "name": "stdout",
     "output_type": "stream",
     "text": [
      "Caught an oops\n"
     ]
    }
   ],
   "source": [
    "#10. Define an exception called OopsException. \n",
    "#Raise this exception to see what happens. Then write the code to catch this exception and print 'Caught an oops'.\n",
    "#(A)\n",
    "\n",
    "class OopsException(Exception):\n",
    "    pass\n",
    "\n",
    "\n",
    "\n",
    "def func():\n",
    "    val=10\n",
    "    if val > 0:\n",
    "        raise OopsException\n",
    "        \n",
    "try:\n",
    "    func()\n",
    "except OopsException as e:\n",
    "    print(\"Caught an oops\")\n"
   ]
  },
  {
   "cell_type": "code",
   "execution_count": 79,
   "metadata": {},
   "outputs": [
    {
     "data": {
      "text/plain": [
       "{'Creature of Habit': 'A nun turns into a monster',\n",
       " 'Crewel Fate': 'A haunted yarn shop'}"
      ]
     },
     "execution_count": 79,
     "metadata": {},
     "output_type": "execute_result"
    }
   ],
   "source": [
    "#11. Use zip() to make a dictionary called movies that pairs these lists:\n",
    "# titles = ['Creature of Habit', 'Crewel Fate'] and plots = ['A nun turns into a monster', 'A haunted yarn shop'].\n",
    "#(A)\n",
    "\n",
    "def zip(a,b):\n",
    "    dict1={}\n",
    "    for i in range(0,2):\n",
    "                dict1[a[i]]=b[i]\n",
    "    \n",
    "    return dict1\n",
    "\n",
    "titles = ['Creature of Habit', 'Crewel Fate']\n",
    "plots = ['A nun turns into a monster', 'A haunted yarn shop']\n",
    "zip(titles,plots)"
   ]
  },
  {
   "cell_type": "code",
   "execution_count": null,
   "metadata": {},
   "outputs": [],
   "source": []
  },
  {
   "cell_type": "code",
   "execution_count": null,
   "metadata": {},
   "outputs": [],
   "source": []
  }
 ],
 "metadata": {
  "kernelspec": {
   "display_name": "Python 3",
   "language": "python",
   "name": "python3"
  },
  "language_info": {
   "codemirror_mode": {
    "name": "ipython",
    "version": 3
   },
   "file_extension": ".py",
   "mimetype": "text/x-python",
   "name": "python",
   "nbconvert_exporter": "python",
   "pygments_lexer": "ipython3",
   "version": "3.8.5"
  }
 },
 "nbformat": 4,
 "nbformat_minor": 4
}
